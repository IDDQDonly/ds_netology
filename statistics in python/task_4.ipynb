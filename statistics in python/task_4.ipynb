{
 "cells": [
  {
   "cell_type": "markdown",
   "metadata": {
    "id": "SOZozVNIGZwQ"
   },
   "source": [
    "## Домашнее задание к занятию \"A/B-тесты\""
   ]
  },
  {
   "cell_type": "markdown",
   "metadata": {
    "id": "N5Z4Rg7PGZwR"
   },
   "source": [
    "### Описание задачи\n",
    "\n",
    "![banner](https://storage.googleapis.com/kaggle-datasets-images/635/1204/126be74882028aac7241553cef0e27a7/dataset-original.jpg)\n",
    "\n",
    "Покемоны - это маленькие существа, которые сражаются друг с другом на соревнованиях. Все покемоны имеют разные характеристики (сила атаки, защиты и т. д.) И относятся к одному или двум так называемым классам (вода, огонь и т. д.).\n",
    "Профессор Оук является изобретателем Pokedex - портативного устройства, которое хранит информацию обо всех существующих покемонах. Как его ведущий специалист по данным, Вы только что получили от него запрос с просьбой осуществить аналитику данных на всех устройствах Pokedex.\n",
    "\n",
    "### Описание набора данных\n",
    "Профессор Оук скопировал все содержимое в память одного устройства Pokedex, в результате чего получился набор данных, с которым Вы будете работать в этой задаче. В этом файле каждая строка представляет характеристики одного покемона:\n",
    "\n",
    "* `pid`: Numeric - ID покемона\n",
    "* `HP`: Numeric - Очки здоровья\n",
    "* `Attack`: Numeric - Сила обычной атаки\n",
    "* `Defense`: Numeric - Сила обычной защиты\n",
    "* `Sp. Atk`: Numeric - Сила специальной атаки\n",
    "* `Sp. Def`: Numeric - Сила специальной защиты\n",
    "* `Speed`: Numeric - Скорость движений\n",
    "* `Legendary`: Boolean - «True», если покемон редкий\n",
    "* `Class 1`: Categorical - Класс покемона\n",
    "* `Class 2`: Categorical - Класс покемона"
   ]
  },
  {
   "cell_type": "code",
   "metadata": {
    "id": "op1t0-0QGZwS",
    "outputId": "be3029cf-0c41-4bea-815f-ef74130e754a",
    "colab": {
     "base_uri": "https://localhost:8080/",
     "height": 172
    },
    "ExecuteTime": {
     "end_time": "2024-12-18T11:05:39.608288Z",
     "start_time": "2024-12-18T11:05:38.415684Z"
    }
   },
   "source": [
    "import warnings\n",
    "from gc import set_debug\n",
    "\n",
    "# Отключение предупреждений (warnings)\n",
    "warnings.filterwarnings(\"ignore\")\n",
    "\n",
    "import pandas as pd\n",
    "\n",
    "from scipy.stats import ttest_ind\n",
    "from scipy.stats import f_oneway, shapiro\n",
    "\n",
    "pokemon = pd.read_csv('https://raw.githubusercontent.com/a-milenkin/datasets_for_t-tests/main/pokemon.csv', on_bad_lines='skip')  # Откроем датасет\n",
    "pokemon.head()\n",
    "\n",
    "# Обратите внимание, что у покемона может быть один или два класса.\n",
    "# Если у покемона два класса, считается, что они имеют одинаковую значимость."
   ],
   "outputs": [
    {
     "data": {
      "text/plain": [
       "   pid           Name Class 1 Class 2  HP  Attack  Defense  Sp. Atk  Sp. Def  \\\n",
       "0    1      Bulbasaur   Grass  Poison  45      49       49       65       65   \n",
       "1    2        Ivysaur   Grass  Poison  60      62       63       80       80   \n",
       "2    3       Venusaur   Grass  Poison  80      82       83      100      100   \n",
       "3    4  Mega Venusaur   Grass  Poison  80     100      123      122      120   \n",
       "4    5     Charmander    Fire     NaN  39      52       43       60       50   \n",
       "\n",
       "   Speed  Legendary  \n",
       "0     45      False  \n",
       "1     60      False  \n",
       "2     80      False  \n",
       "3     80      False  \n",
       "4     65      False  "
      ],
      "text/html": [
       "<div>\n",
       "<style scoped>\n",
       "    .dataframe tbody tr th:only-of-type {\n",
       "        vertical-align: middle;\n",
       "    }\n",
       "\n",
       "    .dataframe tbody tr th {\n",
       "        vertical-align: top;\n",
       "    }\n",
       "\n",
       "    .dataframe thead th {\n",
       "        text-align: right;\n",
       "    }\n",
       "</style>\n",
       "<table border=\"1\" class=\"dataframe\">\n",
       "  <thead>\n",
       "    <tr style=\"text-align: right;\">\n",
       "      <th></th>\n",
       "      <th>pid</th>\n",
       "      <th>Name</th>\n",
       "      <th>Class 1</th>\n",
       "      <th>Class 2</th>\n",
       "      <th>HP</th>\n",
       "      <th>Attack</th>\n",
       "      <th>Defense</th>\n",
       "      <th>Sp. Atk</th>\n",
       "      <th>Sp. Def</th>\n",
       "      <th>Speed</th>\n",
       "      <th>Legendary</th>\n",
       "    </tr>\n",
       "  </thead>\n",
       "  <tbody>\n",
       "    <tr>\n",
       "      <th>0</th>\n",
       "      <td>1</td>\n",
       "      <td>Bulbasaur</td>\n",
       "      <td>Grass</td>\n",
       "      <td>Poison</td>\n",
       "      <td>45</td>\n",
       "      <td>49</td>\n",
       "      <td>49</td>\n",
       "      <td>65</td>\n",
       "      <td>65</td>\n",
       "      <td>45</td>\n",
       "      <td>False</td>\n",
       "    </tr>\n",
       "    <tr>\n",
       "      <th>1</th>\n",
       "      <td>2</td>\n",
       "      <td>Ivysaur</td>\n",
       "      <td>Grass</td>\n",
       "      <td>Poison</td>\n",
       "      <td>60</td>\n",
       "      <td>62</td>\n",
       "      <td>63</td>\n",
       "      <td>80</td>\n",
       "      <td>80</td>\n",
       "      <td>60</td>\n",
       "      <td>False</td>\n",
       "    </tr>\n",
       "    <tr>\n",
       "      <th>2</th>\n",
       "      <td>3</td>\n",
       "      <td>Venusaur</td>\n",
       "      <td>Grass</td>\n",
       "      <td>Poison</td>\n",
       "      <td>80</td>\n",
       "      <td>82</td>\n",
       "      <td>83</td>\n",
       "      <td>100</td>\n",
       "      <td>100</td>\n",
       "      <td>80</td>\n",
       "      <td>False</td>\n",
       "    </tr>\n",
       "    <tr>\n",
       "      <th>3</th>\n",
       "      <td>4</td>\n",
       "      <td>Mega Venusaur</td>\n",
       "      <td>Grass</td>\n",
       "      <td>Poison</td>\n",
       "      <td>80</td>\n",
       "      <td>100</td>\n",
       "      <td>123</td>\n",
       "      <td>122</td>\n",
       "      <td>120</td>\n",
       "      <td>80</td>\n",
       "      <td>False</td>\n",
       "    </tr>\n",
       "    <tr>\n",
       "      <th>4</th>\n",
       "      <td>5</td>\n",
       "      <td>Charmander</td>\n",
       "      <td>Fire</td>\n",
       "      <td>NaN</td>\n",
       "      <td>39</td>\n",
       "      <td>52</td>\n",
       "      <td>43</td>\n",
       "      <td>60</td>\n",
       "      <td>50</td>\n",
       "      <td>65</td>\n",
       "      <td>False</td>\n",
       "    </tr>\n",
       "  </tbody>\n",
       "</table>\n",
       "</div>"
      ]
     },
     "execution_count": 1,
     "metadata": {},
     "output_type": "execute_result"
    }
   ],
   "execution_count": 1
  },
  {
   "cell_type": "markdown",
   "metadata": {
    "id": "8KytW3mUGZwT"
   },
   "source": [
    "### Задачи"
   ]
  },
  {
   "metadata": {},
   "cell_type": "markdown",
   "source": [
    "<div class=\"alert alert-info\">\n",
    "<b>Задание № 1:</b>\n",
    "    \n",
    "Профессор Оук подозревает, что покемоны в классе `Grass` имеют более сильную обычную атаку, чем покемоны в классе `Rock`. Проверьте, прав ли он, и убедите его в своём выводе статистически.\n",
    "    \n",
    "    \n",
    "Примечание: если есть покемоны, которые относятся к обоим классам, просто выбросьте их;\n",
    "    \n",
    "Вы можете предположить, что распределение обычных атак является нормальным для всех классов покемонов.\n",
    "\n",
    "</div>"
   ]
  },
  {
   "metadata": {
    "ExecuteTime": {
     "end_time": "2024-12-18T11:34:14.682810Z",
     "start_time": "2024-12-18T11:34:14.669233Z"
    }
   },
   "cell_type": "code",
   "source": [
    "from scipy.stats import ttest_ind, shapiro\n",
    "\n",
    "# Фильтрация покемонов по классам 'Grass' и 'Rock'\n",
    "grass_pokemons = pokemon[(pokemon['Class 1'] == 'Grass') & (pokemon['Class 2'] != 'Rock')]['Attack']\n",
    "rock_pokemons = pokemon[(pokemon['Class 1'] == 'Rock') & (pokemon['Class 2'] != 'Grass')]['Attack']\n",
    "\n",
    "# Проверка нормальности с использованием теста Шапиро\n",
    "shapiro_grass = shapiro(grass_pokemons)\n",
    "shapiro_rock = shapiro(rock_pokemons)\n",
    "\n",
    "# Если данные нормально распределены, проводим t-тест\n",
    "if shapiro_grass.pvalue > 0.05 and shapiro_rock.pvalue > 0.05:\n",
    "    t_stat, p_value = ttest_ind(grass_pokemons, rock_pokemons, equal_var=False)\n",
    "    \n",
    "    if p_value < 0.05:\n",
    "        print(\"Статистически значимая разница между средними значениями атак существует.\")\n",
    "    else:\n",
    "        print(\"Нет статистически значимой разницы между средними значениями атак.\")\n",
    "else:\n",
    "    print(\"Одна или обе выборки не распределены нормально. Рассмотрим альтернативные методы анализа.\")\n"
   ],
   "outputs": [
    {
     "name": "stdout",
     "output_type": "stream",
     "text": [
      "Статистически значимая разница между средними значениями атак существует.\n"
     ]
    }
   ],
   "execution_count": 45
  },
  {
   "cell_type": "markdown",
   "metadata": {
    "id": "KS2OVjmFGZwV"
   },
   "source": [
    "<div class=\"alert alert-info\">\n",
    "<b>Задание № 2:</b>\n",
    "    \n",
    "Профессор Оук уже долго не может спать по ночам, ведь его волнует вопрос, а правда ли, что покемоны в классе `Water` в среднем быстрее, чем покемоны в классе `Normal`.\n",
    "    \n",
    "    \n",
    "Проверьте, прав ли он, и убедите его в своём выводе статистически.\n",
    "    \n",
    "Примечание: если есть покемоны, которые относятся к обоим классам, выбросьте их;\n",
    "    \n",
    "Вы можете предположить, что распределение скорости движения является нормальным для всех классов покемонов.\n",
    "</div>"
   ]
  },
  {
   "metadata": {
    "ExecuteTime": {
     "end_time": "2024-12-18T11:34:19.184760Z",
     "start_time": "2024-12-18T11:34:19.177042Z"
    }
   },
   "cell_type": "code",
   "source": [
    "# Фильтрация покемонов по классам 'Water' и 'Normal'\n",
    "water_pokemons = pokemon[(pokemon['Class 1'] == 'Water') & (pokemon['Class 2'] != 'Normal')]['Speed']\n",
    "normal_pokemons = pokemon[(pokemon['Class 1'] == 'Normal') & (pokemon['Class 2'] != 'Water')]['Speed']\n",
    "\n",
    "# Проверка нормальности с использованием теста Шапиро\n",
    "shapiro_water = shapiro(water_pokemons)\n",
    "shapiro_normal = shapiro(normal_pokemons)\n",
    "\n",
    "# Если данные нормально распределены, проводим t-тест\n",
    "if shapiro_water.pvalue > 0.05 and shapiro_normal.pvalue > 0.05:\n",
    "    t_stat, p_value = ttest_ind(water_pokemons, normal_pokemons, equal_var=False)\n",
    "    \n",
    "    if p_value < 0.05:\n",
    "        print(\"Статистически значимая разница между средними значениями скоростей существует.\")\n",
    "    else:\n",
    "        print(\"Нет статистически значимой разницы между средними значениями скоростей.\")\n",
    "else:\n",
    "    print(\"Одна или обе выборки не распределены нормально. Рассмотрим альтернативные методы анализа.\")\n"
   ],
   "outputs": [
    {
     "name": "stdout",
     "output_type": "stream",
     "text": [
      "Нет статистически значимой разницы между средними значениями скоростей.\n"
     ]
    }
   ],
   "execution_count": 49
  },
  {
   "cell_type": "markdown",
   "metadata": {
    "id": "p9VPcdu-GZwb"
   },
   "source": [
    "<div class=\"alert alert-info\">\n",
    "<b>Задание № 3:</b>\n",
    "    \n",
    "Профессор Оук тот еще безумец. Он изобрёл сыворотку, способную ускорить покемона. Однако мы усомнились в эффективности его вакцины. Професоор дал эту сыворотку следующим покемонам: смотри массив `treathed_pokemon`. Проверьте, работает ли вообще его сыворотка, убедите всех в своём выводе статистически.\n",
    "    \n",
    "    \n",
    "Вы можете предположить, что распределение скорости движения является нормальным для всех классов покемонов.\n",
    "\n",
    "</div>"
   ]
  },
  {
   "cell_type": "code",
   "metadata": {
    "id": "olGBBpq2GZwb",
    "ExecuteTime": {
     "end_time": "2024-12-18T11:34:21.659036Z",
     "start_time": "2024-12-18T11:34:21.656341Z"
    }
   },
   "source": [
    "# Покемоны, которые принимали сыворотку увеличения скорости\n",
    "treathed_pokemon = ['Mega Beedrill', 'Mega Alakazam',\n",
    "                    'Deoxys Normal Forme', 'Mega Lopunny']"
   ],
   "outputs": [],
   "execution_count": 50
  },
  {
   "metadata": {
    "ExecuteTime": {
     "end_time": "2024-12-18T11:34:23.736175Z",
     "start_time": "2024-12-18T11:34:23.728384Z"
    }
   },
   "cell_type": "code",
   "source": [
    "from scipy.stats import mannwhitneyu\n",
    "\n",
    "# Фильтрация покемонов по сыворотке\n",
    "treated_pokemons = pokemon[pokemon['Name'].isin(treathed_pokemon)]['Speed']\n",
    "non_treated_pokemons = pokemon[~pokemon['Name'].isin(treathed_pokemon)]['Speed']\n",
    "\n",
    "# Проверка нормальности с использованием теста Шапиро\n",
    "shapiro_treated = shapiro(treated_pokemons)\n",
    "shapiro_non_treated = shapiro(non_treated_pokemons)\n",
    "\n",
    "# Если хотя бы одна из выборок не нормально распределена, применяем тест Манна-Уитни\n",
    "if shapiro_treated.pvalue <= 0.05 or shapiro_non_treated.pvalue <= 0.05:\n",
    "    u_stat, p_value = mannwhitneyu(treated_pokemons, non_treated_pokemons, alternative='two-sided')\n",
    "    \n",
    "    if p_value < 0.05:\n",
    "        print(\"Статистически значимая разница между распределениями скоростей покемонов с сывороткой и без сыворотки существует.\")\n",
    "    else:\n",
    "        print(\"Нет статистически значимой разницы между распределениями скоростей покемонов с сывороткой и без сыворотки.\")\n",
    "else:\n",
    "    print(\"Выборки распределены нормально. Рассмотрим использование t-теста.\")\n"
   ],
   "outputs": [
    {
     "name": "stdout",
     "output_type": "stream",
     "text": [
      "Статистически значимая разница между распределениями скоростей покемонов с сывороткой и без сыворотки существует.\n"
     ]
    }
   ],
   "execution_count": 51
  },
  {
   "cell_type": "markdown",
   "metadata": {
    "id": "IpgS6yk9GZwc"
   },
   "source": [
    "<div class=\"alert alert-info\">\n",
    "<b>Задание № 4:</b>\n",
    "    \n",
    "Профессор Оук всегда любил истории про легендарных покемонов. Однако профессор не очень уверен, что они лучше остальных покемонов. Оук предложил разобраться в этом нам. Проверьте, действительно ли сумма характеристик `HP`,`Attack`,`Defense` у легендарных покемонов выше, чем у других покемонов?\n",
    "\n",
    "А произведение этих же параметров?\n",
    "\n",
    "Найдите ответы на эти вопросы и убедите всех в своём выводе статистически.\n",
    "   \n",
    "\n",
    "Вы можете предположить, что распределение сум и произведений этих параметров является нормальным для всех классов покемонов.\n",
    "\n",
    "</div>"
   ]
  },
  {
   "metadata": {
    "ExecuteTime": {
     "end_time": "2024-12-18T11:34:25.733803Z",
     "start_time": "2024-12-18T11:34:25.725242Z"
    }
   },
   "cell_type": "code",
   "source": [
    "# Создание новых столбцов для суммы и произведения характеристик\n",
    "pokemon['sum_stats'] = pokemon['HP'] + pokemon['Attack'] + pokemon['Defense']\n",
    "pokemon['prod_stats'] = pokemon['HP'] * pokemon['Attack'] * pokemon['Defense']\n",
    "\n",
    "# Фильтрация по легендарным и не-легендарным покемонам\n",
    "legendary_pokemons = pokemon[pokemon['Legendary'] == True]\n",
    "non_legendary_pokemons = pokemon[pokemon['Legendary'] == False]\n",
    "\n",
    "# Применяем тест Манна-Уитни для суммы характеристик\n",
    "u_stat_sum, p_value_sum = mannwhitneyu(legendary_pokemons['sum_stats'], non_legendary_pokemons['sum_stats'], alternative='two-sided')\n",
    "\n",
    "# Применяем тест Манна-Уитни для произведения характеристик\n",
    "u_stat_prod, p_value_prod = mannwhitneyu(legendary_pokemons['prod_stats'], non_legendary_pokemons['prod_stats'], alternative='two-sided')\n",
    "\n",
    "# Интерпретация результатов для суммы характеристик\n",
    "if p_value_sum < 0.05:\n",
    "    print(\"Сумма характеристик легендарных покемонов значительно больше.\")\n",
    "else:\n",
    "    print(\"Нет статистически значимой разницы в сумме характеристик между легендарными и не-легендарными покемонами.\")\n",
    "\n",
    "# Интерпретация результатов для произведения характеристик\n",
    "if p_value_prod < 0.05:\n",
    "    print(\"Произведение характеристик легендарных покемонов значительно больше.\")\n",
    "else:\n",
    "    print(\"Нет статистически значимой разницы в произведении характеристик между легендарными и не-легендарными покемонами.\")\n"
   ],
   "outputs": [
    {
     "name": "stdout",
     "output_type": "stream",
     "text": [
      "Сумма характеристик легендарных покемонов значительно больше.\n",
      "Произведение характеристик легендарных покемонов значительно больше.\n"
     ]
    }
   ],
   "execution_count": 52
  },
  {
   "cell_type": "markdown",
   "metadata": {
    "id": "g9GwcheAGZwc"
   },
   "source": [
    "<div class=\"alert alert-info\">\n",
    "<b>Задание № 5:</b>\n",
    "    \n",
    "Профессор Оук частенько наблюдает за боями покемонов. После очередных таких боёв Оук выделил четыре класса `best_defence_class`, которые на его взгляд одинаковы по \"силе обычной защиты\" `Defense`.\n",
    "\n",
    "Проверьте, действительно ли эти классы покемонов не отличаются по уровню защиты статистически значимо? Всё та же статистика вам в помощь!\n",
    "   \n",
    "\n",
    "Вы можете предположить, что распределение параметров защитных характеристик является нормальным для всех классов покемонов.\n",
    "\n",
    "</div>"
   ]
  },
  {
   "cell_type": "code",
   "metadata": {
    "id": "F0w6ipNBGZwd",
    "colab": {
     "base_uri": "https://localhost:8080/"
    },
    "outputId": "e20a4efd-dcf6-4730-8730-91f7fec544ea",
    "ExecuteTime": {
     "end_time": "2024-12-18T11:34:28.306999Z",
     "start_time": "2024-12-18T11:34:28.302809Z"
    }
   },
   "source": [
    "best_defence_class = ['Rock', 'Ground', 'Steel', 'Ice']\n",
    "best_defence_class"
   ],
   "outputs": [
    {
     "data": {
      "text/plain": [
       "['Rock', 'Ground', 'Steel', 'Ice']"
      ]
     },
     "execution_count": 53,
     "metadata": {},
     "output_type": "execute_result"
    }
   ],
   "execution_count": 53
  },
  {
   "metadata": {
    "ExecuteTime": {
     "end_time": "2024-12-18T11:34:31.435319Z",
     "start_time": "2024-12-18T11:34:31.430364Z"
    }
   },
   "cell_type": "code",
   "source": [
    "from scipy.stats import kruskal\n",
    "\n",
    "# Фильтрация покемонов, которые принадлежат одному из этих классов\n",
    "filtered_pokemon = pokemon[pokemon['Class 1'].isin(best_defence_class)]\n",
    "\n",
    "# Группируем данные по классам и извлекаем защиты\n",
    "groups = [filtered_pokemon[filtered_pokemon['Class 1'] == cls]['Defense'] for cls in best_defence_class]\n",
    "\n",
    "# Применяем тест Круссала-Уоллиса\n",
    "kruskal_stat, kruskal_p_value = kruskal(*groups)\n",
    "\n",
    "# Интерпретация результатов теста Круссала-Уоллиса\n",
    "if kruskal_p_value < 0.05:\n",
    "    print(\"Средние значения защиты различаются между классами.\")\n",
    "else:\n",
    "    print(\"Нет статистически значимой разницы в защите между классами.\")\n"
   ],
   "outputs": [
    {
     "name": "stdout",
     "output_type": "stream",
     "text": [
      "Средние значения защиты различаются между классами.\n"
     ]
    }
   ],
   "execution_count": 55
  },
  {
   "cell_type": "markdown",
   "source": [
    "# **Примечание:**\n",
    "\n",
    "Домашнее задание сдается ссылкой [Google Colab](https://colab.research.google.com/). Мы не сможем проверить его или помочь, если вы пришлете:\n",
    "\n",
    "*   файлы;\n",
    "*   архивы;\n",
    "*   скриншоты кода.\n",
    "\n",
    "Все обсуждения и консультации по выполнению домашнего задания ведутся только на соответствующем канале в Discord.\n",
    "\n",
    "**Как правильно задавать вопросы аспирантам, преподавателям и коллегам:**\n",
    "\n",
    "Прежде чем задать вопрос, попробуйте найти ответ в интернете. Навык самостоятельного поиска информации — один из важнейших. Каждый практикующий специалист любого уровня делает это ежедневно.\n",
    "\n",
    "Сформулируйте вопрос по алгоритму:\n",
    "\n",
    "1.   Что я делаю?\n",
    "2.   Какого результата я ожидаю?\n",
    "3.   Как фактический результат отличается от ожидаемого?\n",
    "4.   Что я уже попробовал сделать, чтобы исправить проблему?\n",
    "\n",
    "По возможности прикрепите к вопросу скриншоты либо ссылки на код. Не выкладывайте все решение, оставляйте только проблемный и воспроизводимый участок кода."
   ],
   "metadata": {
    "id": "If3qgUORDFBb"
   }
  }
 ],
 "metadata": {
  "kernelspec": {
   "display_name": "Python 3",
   "language": "python",
   "name": "python3"
  },
  "language_info": {
   "codemirror_mode": {
    "name": "ipython",
    "version": 3
   },
   "file_extension": ".py",
   "mimetype": "text/x-python",
   "name": "python",
   "nbconvert_exporter": "python",
   "pygments_lexer": "ipython3",
   "version": "3.7.6"
  },
  "toc": {
   "base_numbering": 1,
   "nav_menu": {},
   "number_sections": true,
   "sideBar": true,
   "skip_h1_title": false,
   "title_cell": "Table of Contents",
   "title_sidebar": "Contents",
   "toc_cell": false,
   "toc_position": {},
   "toc_section_display": true,
   "toc_window_display": false
  },
  "colab": {
   "provenance": []
  }
 },
 "nbformat": 4,
 "nbformat_minor": 0
}
