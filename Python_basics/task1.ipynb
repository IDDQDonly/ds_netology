{
 "nbformat": 4,
 "nbformat_minor": 0,
 "metadata": {
  "colab": {
   "provenance": []
  },
  "kernelspec": {
   "name": "python3",
   "display_name": "Python 3"
  },
  "language_info": {
   "name": "python"
  }
 },
 "cells": [
  {
   "cell_type": "code",
   "source": [
    "#Задание 1\n",
    "string1 = input('Введите первую строку: ')\n",
    "string2 = input('введите вторую строку: ')\n",
    "\n",
    "if len(string1) > len(string2):\n",
    "  print('Первая строка длинее')\n",
    "elif len(string2) > len(string1):\n",
    "  print('Вторая строка длинее')\n",
    "else:\n",
    "  print('строки равны')"
   ],
   "metadata": {
    "id": "MovEoGJBnRAu"
   },
   "execution_count": null,
   "outputs": []
  },
  {
   "cell_type": "code",
   "source": [
    "#Задание 2\n",
    "\n",
    "year = int(input(\"Введите год: \"))\n",
    "\n",
    "print(f'{year} високосный год') if year % 4 == 0 else print(f'{year} обычный год')"
   ],
   "metadata": {
    "id": "ZKhksy47o3rp"
   },
   "execution_count": null,
   "outputs": []
  },
  {
   "cell_type": "code",
   "source": [
    "#Задание 3\n",
    "month = input('Введите месяц: ').lower()\n",
    "day = int(input('Введите день: '))\n",
    "\n",
    "if (month == 'март' and day >= 21) or  (month == 'апрель' and day <= 20):\n",
    "  print('Овен')\n",
    "elif (month == 'апрель' and day >= 21) or (month == 'май' and day <= 20):\n",
    "  print('Телец')\n",
    "elif (month == 'май' and day >= 21) or  (month == 'июнь' and day <= 21):\n",
    "  print('Близнецы')\n",
    "elif (month == 'июнь' and day >= 22) or  (month == 'июль' and day <= 22):\n",
    "  print('Рак')\n",
    "elif (month == 'июль' and day >= 23) or  (month =='август' and day <= 23):\n",
    "  print('Лев')\n",
    "elif (month == 'август' and day >= 24) or  (month == 'сентябрь' and day <= 23):\n",
    "  print('Дева')\n",
    "elif (month == 'сентябрь' and day >= 24) or  (month == 'октябрь' and day <= 23):\n",
    "  print('Весы')\n",
    "elif (month == 'октябрь' and day >= 24) or  (month == 'ноябрь' and day <= 22):\n",
    "  print('Скорпион')\n",
    "elif (month == 'ноябрь' and day >= 23) or  (month == 'декабрь' and day <= 21):\n",
    "  print('Стрелец')\n",
    "elif (month == 'декабрь' and day >= 22) or  (month == 'январь' and day <= 20):\n",
    "  print('Козерог')\n",
    "elif (month == 'январь' and day >= 21) or  (month == 'февраль' and day <= 20):\n",
    "  print('Водолей')\n",
    "elif (month == 'февраль' and day >= 21) or  (month == 'март' and day <= 20):\n",
    "  print('Рыбы')\n",
    "else: print('дата указана неверно')\n",
    "\n",
    "\n",
    "\n"
   ],
   "metadata": {
    "id": "WnYAsQlerjp1"
   },
   "execution_count": null,
   "outputs": []
  },
  {
   "cell_type": "code",
   "source": [
    "#задание 4\n",
    "width = int(input('Введите ширину в см: '))\n",
    "length = int(input('Введите длину в см: '))\n",
    "height = int(input('Введите высоту в см: '))\n",
    "\n",
    "if width <= 15 and length <= 15 and height <= 15:\n",
    "  print('Коробка №1')\n",
    "elif width > 200 or length > 200 or height > 200:\n",
    "  print('Упаковка для лыж')\n",
    "elif 15 <= width <= 50 or 15 <= length <= 50 or 15 <= height <= 50:\n",
    "  print('Коробка №2')\n",
    "else: print('Коробка №3')\n",
    "\n",
    "\n",
    "#задание 4 вариант 2\n",
    "width = int(input('Введите ширину в см: '))\n",
    "length = int(input('Введите длину в см: '))\n",
    "height = int(input('Введите высоту в см: '))\n",
    "\n",
    "if max(width,height,length) <= 15:\n",
    "  print('Коробка №1')\n",
    "elif max(width,height,length)> 200:\n",
    "  print('Упаковка для лыж')\n",
    "elif any(15 < dim < 50 for dim in [width, length, height])\n",
    "  print('Коробка №2')\n",
    "else: print('Коробка №3')"
   ],
   "metadata": {
    "id": "IlLU0NzayG59"
   },
   "execution_count": null,
   "outputs": []
  },
  {
   "cell_type": "code",
   "source": [
    "#Задание 5\n",
    "\n",
    "number = 123456\n",
    "\n",
    "print('счастливый билет') if int(str(number)[0]) + int(str(number)[1]) + int(str(number)[2]) == int(str(number)[3]) + int(str(number)[4]) + int(str(number)[5]) else print('несчастливый билет')\n",
    "\n",
    "#решение 2\n",
    "first_half = sum(int(digit) for digit in str(number)[:3])\n",
    "second_half = sum(int(digit) for digit in str(number)[3:])\n",
    "print('счастливый билет' if first_half == second_half else 'несчастливый билет')"
   ],
   "metadata": {
    "id": "8SxlbBjK1cKl"
   },
   "execution_count": null,
   "outputs": []
  },
  {
   "cell_type": "code",
   "source": [
    "#Задание 6\n",
    "import math\n",
    "\n",
    "type_figure = input('Введите тип фигуры:').lower()\n",
    "\n",
    "match type_figure:\n",
    "  case \"круг\":\n",
    "    r = int(input('Введите радиус круга: '))\n",
    "    print('Площадь круга:',round(math.pi * r**2,2))\n",
    "  case \"треугольник\":\n",
    "    a = int(input('Введите длину стороны A:'))\n",
    "    b = int(input('Введите длину стороны B:'))\n",
    "    c = int(input('Введите длину стороны C:'))\n",
    "    p = (a+b+c)/2\n",
    "    print('Площадь треугольника:', round(math.sqrt(p*(p-a)*(p-b)*(p-c)),2))\n",
    "  case \"прямоугольник\":\n",
    "    a = int(input('Введите длину стороны A:'))\n",
    "    b = int(input('Введите длину стороны B:'))\n",
    "    print('Площадь прямоугольника:', round(a*b,2))\n",
    "\n",
    "\n",
    "\n",
    "\n",
    "\n"
   ],
   "metadata": {
    "id": "A6Jc55uP46M5",
    "outputId": "d6516c44-827c-481f-b8aa-9a3366617bd9",
    "colab": {
     "base_uri": "https://localhost:8080/",
     "height": 356
    }
   },
   "outputs": [],
   "execution_count": null
  }
 ]
}
