{
  "nbformat": 4,
  "nbformat_minor": 0,
  "metadata": {
    "colab": {
      "provenance": []
    },
    "kernelspec": {
      "name": "python3",
      "display_name": "Python 3"
    },
    "language_info": {
      "name": "python"
    }
  },
  "cells": [
    {
      "cell_type": "markdown",
      "source": [
        "Задание 1: вариант с построчным добавлением"
      ],
      "metadata": {
        "id": "CZ5jeq5pq7-M"
      }
    },
    {
      "cell_type": "code",
      "source": [
        "purchases = {}\n",
        "\n",
        "with open(\"purchase_log.txt\",\"r\",encoding='UTF-8') as file_purchase:\n",
        "    for line in file_purchase:\n",
        "        line = json.loads(line)\n",
        "        purchases.update({line['user_id']:line['category']})"
      ],
      "metadata": {
        "id": "Grwx0a3Tq-8n"
      },
      "execution_count": null,
      "outputs": []
    },
    {
      "cell_type": "markdown",
      "source": [
        "Задание 1: вариант когда весь файл сразу читаем и помещаем в ОЗУ"
      ],
      "metadata": {
        "id": "uxDfDVLFrBVF"
      }
    },
    {
      "cell_type": "code",
      "source": [
        "purchases = {}\n",
        "with open(\"purchase_log.txt\", \"r\", encoding='UTF-8') as file_purchase:\n",
        "    data = file_purchase.read()\n",
        "    lines = data.splitlines()\n",
        "    for line in lines:\n",
        "        line = json.loads(line)\n",
        "        purchases[line['user_id']] = line['category']"
      ],
      "metadata": {
        "id": "mT6t8TsmrBnW"
      },
      "execution_count": null,
      "outputs": []
    },
    {
      "cell_type": "markdown",
      "source": [
        "Задание 1: не совсем понял надо ли первую строку анализировать в файле purchase_log.txt поэтому такой вариант без первой строки"
      ],
      "metadata": {
        "id": "kPosLFlIrB8N"
      }
    },
    {
      "cell_type": "code",
      "source": [
        "purchases = {}\n",
        "with open(\"purchase_log.txt\", \"r\", encoding='UTF-8') as file_purchase:\n",
        "    data = file_purchase.read()\n",
        "    lines = data.splitlines()\n",
        "    for line in lines[1:]:\n",
        "        line = json.loads(line)\n",
        "        purchases[line['user_id']] = line['category']"
      ],
      "metadata": {
        "id": "a6Cf1CbfrCDH"
      },
      "execution_count": null,
      "outputs": []
    },
    {
      "cell_type": "markdown",
      "source": [
        "Задание 2: вариант решения на основе лекций"
      ],
      "metadata": {
        "id": "okwAnFTUrCId"
      }
    },
    {
      "cell_type": "code",
      "source": [
        "with open(\"visit_log.csv\",\"r\", encoding=\"UTF-8\") as file_visit:\n",
        "    with open(\"funnel.csv\",\"w\", encoding=\"UTF-8\") as new_file:\n",
        "        for line in file_visit:\n",
        "            line = line.strip().split(\",\")\n",
        "            if line[0] in purchases:\n",
        "                line = ','.join(line)+','+purchases[line[0]]+'\\n'\n",
        "                new_file.write(line)"
      ],
      "metadata": {
        "id": "TN2PjTcPrCOC"
      },
      "execution_count": null,
      "outputs": []
    },
    {
      "cell_type": "markdown",
      "source": [
        "Задание 2: вариант решений через import csv"
      ],
      "metadata": {
        "id": "kRruc0tIrCTU"
      }
    },
    {
      "cell_type": "code",
      "source": [
        "import csv\n",
        "\n",
        "with open(\"visit_log.csv\",\"r\", encoding=\"UTF-8\",newline='') as file_visit:\n",
        "    with open(\"funnel.csv\",\"w\", encoding=\"UTF-8\",newline='') as new_file:\n",
        "        data = csv.reader(file_visit)\n",
        "        write = csv.writer(new_file)\n",
        "\n",
        "        for line in data:\n",
        "            if line[0] in purchases:\n",
        "                line.append(purchases[line[0]])\n",
        "                write.writerow(line)"
      ],
      "metadata": {
        "id": "abyBnGfHrCYs"
      },
      "execution_count": null,
      "outputs": []
    }
  ]
}