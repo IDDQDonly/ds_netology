{
 "nbformat": 4,
 "nbformat_minor": 0,
 "metadata": {
  "colab": {
   "provenance": []
  },
  "kernelspec": {
   "name": "python3",
   "display_name": "Python 3"
  },
  "language_info": {
   "name": "python"
  }
 },
 "cells": [
  {
   "cell_type": "code",
   "execution_count": null,
   "metadata": {
    "id": "3c37zbFM_Wb9"
   },
   "outputs": [],
   "source": [
    "#Задание 1\n",
    "\n",
    "word = input('Введите слово:')\n",
    "\n",
    "if len(word) % 2 == 0:\n",
    "  print(word[int(len(word)/2 - 1)] + word[int(len(word)/2)])\n",
    "else:\n",
    "  print((word[int(len(word)/2)]))\n"
   ]
  },
  {
   "cell_type": "code",
   "source": [
    "#Задание 2\n",
    "\n",
    "summa = 0\n",
    "\n",
    "while True:\n",
    "  number = int(input('Введите число:'))\n",
    "  if number != 0:\n",
    "    summa += number\n",
    "  else:\n",
    "    break\n",
    "print('Результат:', summa)"
   ],
   "metadata": {
    "id": "_N_o6J19j6ZK"
   },
   "execution_count": null,
   "outputs": []
  },
  {
   "cell_type": "code",
   "source": [
    "#Задание 3\n",
    "\n",
    "boys = ['Peter', 'Alex', 'John', 'Arthur', 'Richard']\n",
    "girls = ['Kate', 'Liza', 'Kira', 'Emma', 'Trisha']\n",
    "\n",
    "\n",
    "\n",
    "if len(boys) == len(girls):\n",
    "  for i in range(len(boys)):\n",
    "    print(f'Идеальные пары {sorted(boys)[i]} и {sorted(girls)[i]}')\n",
    "else:\n",
    "  print('Внимание, кто-то может остаться без пары!')"
   ],
   "metadata": {
    "id": "zVom7qPmk7jI"
   },
   "execution_count": null,
   "outputs": []
  },
  {
   "cell_type": "code",
   "source": [
    "#Задание 4\n",
    "\n",
    "countries_temperature = [\n",
    "    ['Таиланд', [75.2, 77, 78.8, 73.4, 68, 75.2, 77]],\n",
    "    ['Германия', [57.2, 55.4, 59, 59, 53.6]],\n",
    "    ['Россия', [35.6, 37.4, 39.2, 41, 42.8, 39.2, 35.6]],\n",
    "    ['Польша', [50, 50, 53.6, 57.2, 55.4, 55.4]]\n",
    "]\n",
    "\n",
    "for row in countries_temperature:\n",
    "  average = round((sum(row[1]) / len(row[1]) -32) * 5 / 9,1)\n",
    "  print(f'{row[0]} - {average} C')\n"
   ],
   "metadata": {
    "colab": {
     "base_uri": "https://localhost:8080/"
    },
    "id": "juraNyjimtir",
    "outputId": "288fb5f8-8506-4b81-88a0-9f69dd4d9d81"
   },
   "execution_count": null,
   "outputs": [
    {
     "output_type": "stream",
     "name": "stdout",
     "text": [
      "Таиланд - 23.9 C\n",
      "Германия - 13.8 C\n",
      "Россия - 3.7 C\n",
      "Польша - 12.0 C\n"
     ]
    }
   ]
  },
  {
   "cell_type": "code",
   "source": [
    "#Задание 5\n",
    "\n",
    "import re\n",
    "\n",
    "car_ids = ['А222ВС96', 'АБ22ВВ193']\n",
    "\n",
    "for ids in car_ids:\n",
    "  match = re.fullmatch(r'([А,В,Е,К,М,Н,О,Р,С,Т У,Х]{1}\\d{3}[А,В,Е,К,М,Н,О,Р,С,Т У,Х]{2})(\\d{2})', ids)\n",
    "  print(f'Номер {ids} не валиден' ) if not match else print(f'Номер {ids[:-2]} валиден. Регион: {ids[-2:]}' )\n",
    "\n"
   ],
   "metadata": {
    "id": "-wi8lZeVq4sH"
   },
   "execution_count": null,
   "outputs": []
  },
  {
   "cell_type": "code",
   "source": [
    "#Задание 6\n",
    "\n",
    "import re\n",
    "\n",
    "stream = [\n",
    "    'user100,2022-01-01;150',\n",
    "    'user99,2022-01-07;205',\n",
    "    'user1001,2022-03-29;81'\n",
    "]\n",
    "\n",
    "pattern = r\"(\\w+),(\\d{4}-\\d{2}-\\d{2});(\\d*)\"\n",
    "\n",
    "new_stream = []\n",
    "buffer = 0\n",
    "\n",
    "for record in sorted(stream):\n",
    "    match = re.match(pattern, record)\n",
    "    if match:\n",
    "      username = match.group(1)\n",
    "      number = match.group(3)\n",
    "      buffer += int(number)\n",
    "      if username not in new_stream:\n",
    "        new_stream.append(username)\n",
    "print(f'Среднее количество просмотров на уникального пользователя: {round(buffer/len(new_stream),2)}')"
   ],
   "metadata": {
    "colab": {
     "base_uri": "https://localhost:8080/"
    },
    "id": "zev71JqgvdLw",
    "outputId": "bcf610c0-8079-42ea-d39f-e332eaa9f9ae"
   },
   "execution_count": null,
   "outputs": [
    {
     "output_type": "stream",
     "name": "stdout",
     "text": [
      "Среднее количество просмотров на уникального пользователя: 145.33\n"
     ]
    }
   ]
  },
  {
   "cell_type": "code",
   "source": [
    "str = 'AV Analytics Vidhya AV'\n",
    "\n",
    "result = re.match(r'Analytics', 'AV Analytics Vidhy AVa')\n",
    "print(result)\n",
    "\n"
   ],
   "metadata": {
    "colab": {
     "base_uri": "https://localhost:8080/",
     "height": 193
    },
    "id": "O4M4yDUnSGpW",
    "outputId": "c8e34ef4-7dcb-47dc-8fb3-c873c9506fce"
   },
   "execution_count": null,
   "outputs": [
    {
     "output_type": "error",
     "ename": "AttributeError",
     "evalue": "'list' object has no attribute 'items'",
     "traceback": [
      "\u001B[0;31m---------------------------------------------------------------------------\u001B[0m",
      "\u001B[0;31mAttributeError\u001B[0m                            Traceback (most recent call last)",
      "\u001B[0;32m<ipython-input-21-68d49f2487cb>\u001B[0m in \u001B[0;36m<cell line: 10>\u001B[0;34m()\u001B[0m\n\u001B[1;32m      8\u001B[0m     \u001B[0;32mreturn\u001B[0m \u001B[0mdict\u001B[0m\u001B[0;34m\u001B[0m\u001B[0;34m\u001B[0m\u001B[0m\n\u001B[1;32m      9\u001B[0m \u001B[0;34m\u001B[0m\u001B[0m\n\u001B[0;32m---> 10\u001B[0;31m \u001B[0;32mfor\u001B[0m \u001B[0mk\u001B[0m\u001B[0;34m,\u001B[0m \u001B[0mv\u001B[0m \u001B[0;32min\u001B[0m \u001B[0;34m(\u001B[0m\u001B[0memails\u001B[0m\u001B[0;34m)\u001B[0m\u001B[0;34m.\u001B[0m\u001B[0mitems\u001B[0m\u001B[0;34m(\u001B[0m\u001B[0;34m)\u001B[0m\u001B[0;34m:\u001B[0m\u001B[0;34m\u001B[0m\u001B[0;34m\u001B[0m\u001B[0m\n\u001B[0m\u001B[1;32m     11\u001B[0m     \u001B[0mprint\u001B[0m\u001B[0;34m(\u001B[0m\u001B[0mk\u001B[0m\u001B[0;34m,\u001B[0m \u001B[0mv\u001B[0m\u001B[0;34m)\u001B[0m\u001B[0;34m\u001B[0m\u001B[0;34m\u001B[0m\u001B[0m\n",
      "\u001B[0;31mAttributeError\u001B[0m: 'list' object has no attribute 'items'"
     ]
    }
   ]
  },
  {
   "cell_type": "markdown",
   "source": [],
   "metadata": {
    "id": "Hv0fDPwKSGML"
   }
  },
  {
   "cell_type": "markdown",
   "source": [],
   "metadata": {
    "id": "wTY48tsptzB2"
   }
  }
 ]
}
