{
 "nbformat": 4,
 "nbformat_minor": 0,
 "metadata": {
  "colab": {
   "provenance": []
  },
  "kernelspec": {
   "name": "python3",
   "display_name": "Python 3"
  },
  "language_info": {
   "name": "python"
  }
 },
 "cells": [
  {
   "cell_type": "markdown",
   "source": [
    "## Задание 1\n",
    "Напишите функцию, которая возвращает название валюты (поле ‘Name’) с максимальным значением курса с помощью сервиса www.cbr-xml-daily.ru...ly_json.js\n",
    "\n",
    "## Задание 2\n",
    "Добавьте в класс Rate параметр diff (со значениями True или False), который в случае значения True в методах курсов валют (eur, usd итд) будет возвращать не курс валюты, а изменение по сравнению в прошлым значением. Считайте, self.diff будет принимать значение True только при возврате значения курса. При отображении всей информации о валюте он не используется.\n",
    "\n",
    "### объединил в один класс"
   ],
   "metadata": {
    "id": "ykXSFHaxzpDg"
   }
  },
  {
   "cell_type": "code",
   "source": [
    "import requests as r\n",
    "\n",
    "class Rate():\n",
    "    def __init__(self,diff=True):\n",
    "        self.diff = diff\n",
    "        self.all_course = r.get(url='https://www.cbr-xml-daily.ru/daily_json.js').json()\n",
    "\n",
    "    def max_course(self):\n",
    "\n",
    "        value = 0\n",
    "        name = ''\n",
    "        for valute in self.all_course['Valute'].keys():\n",
    "            if value < self.all_course['Valute'][valute]['Value']:\n",
    "                name = self.all_course['Valute'][valute]['Name']\n",
    "                value = self.all_course['Valute'][valute]['Value']\n",
    "        return_str = f'Максимальное значение курса у валюты {name} ее значение {value}'\n",
    "        return return_str\n",
    "\n",
    "    def valute(self,valute):\n",
    "        valute = valute.upper()\n",
    "        if valute in self.all_course['Valute'] and self.diff == False:\n",
    "            return self.all_course['Valute'][valute]['Value']\n",
    "        else:\n",
    "          diff = round(self.all_course['Valute'][valute]['Value'] - self.all_course['Valute'][valute]['Previous'],6)\n",
    "          if diff > 0:\n",
    "            return_str = f'Валюта {valute} увеличилась на {diff}'\n",
    "            return return_str\n",
    "          else:\n",
    "            return_str = f'Валюта {valute} уменьшилась на {diff}'\n",
    "            return return_str\n"
   ],
   "metadata": {
    "id": "xN9cL5t3zyx5"
   },
   "execution_count": null,
   "outputs": []
  },
  {
   "cell_type": "code",
   "source": [
    "rate = Rate()\n",
    "rate.max_course()"
   ],
   "metadata": {
    "colab": {
     "base_uri": "https://localhost:8080/",
     "height": 36
    },
    "id": "TW_nHIPZz9vI",
    "outputId": "42dbc635-6859-4e23-ba67-8053f9d1cd3b"
   },
   "execution_count": null,
   "outputs": [
    {
     "output_type": "execute_result",
     "data": {
      "text/plain": [
       "'Максимальное значение курса у валюты СДР (специальные права заимствования) ее значение 125.1298'"
      ],
      "application/vnd.google.colaboratory.intrinsic+json": {
       "type": "string"
      }
     },
     "metadata": {},
     "execution_count": 9
    }
   ]
  },
  {
   "cell_type": "code",
   "source": [
    "rate = Rate(diff=False)\n",
    "print(rate.valute('usd'))"
   ],
   "metadata": {
    "colab": {
     "base_uri": "https://localhost:8080/"
    },
    "id": "Wh1XHTnVz3I6",
    "outputId": "5a999be7-d0d1-4603-d662-8c29500c322f"
   },
   "execution_count": null,
   "outputs": [
    {
     "output_type": "stream",
     "name": "stdout",
     "text": [
      "92.4074\n"
     ]
    }
   ]
  },
  {
   "cell_type": "code",
   "source": [
    "rate = Rate(diff=True)\n",
    "print(rate.valute('eur'))"
   ],
   "metadata": {
    "colab": {
     "base_uri": "https://localhost:8080/"
    },
    "id": "Z6_7vuCD0svs",
    "outputId": "cbaff74c-db38-456f-e629-42a879ddada2"
   },
   "execution_count": null,
   "outputs": [
    {
     "output_type": "stream",
     "name": "stdout",
     "text": [
      "Валюта EUR уменьшилась на -0.2827\n"
     ]
    }
   ]
  },
  {
   "cell_type": "code",
   "source": [
    "rate = Rate(diff=True)\n",
    "print(rate.valute('usd'))"
   ],
   "metadata": {
    "colab": {
     "base_uri": "https://localhost:8080/"
    },
    "id": "jIJvMqmZ1YUE",
    "outputId": "ff7436ee-1ec6-42f3-e051-3411fcfd5077"
   },
   "execution_count": null,
   "outputs": [
    {
     "output_type": "stream",
     "name": "stdout",
     "text": [
      "Валюта USD увеличилась на 0.0194\n"
     ]
    }
   ]
  },
  {
   "cell_type": "markdown",
   "source": [
    "##Задание 3\n",
    "Напишите класс Designer, который учитывает количество международных премий. Подсказки в коде занятия (“Ноутбук к лекциям «Понятие класса» + презентация”, zip-файл “Используемый ноутбук к лекциям «Понятие класса»).\n",
    "\n",
    "##Комментарий по классу Designer такой:\n",
    "Напишите класс Designer, который учитывает количество международных премий для дизайнеров (из презентации: “Повышение на 1 грейд за каждые 7 баллов. Получение международной премии – это +2 балла”). Считайте, что при выходе на работу сотрудник уже имеет две премии и их количество не меняется со стажем (конечно если хотите это можно вручную менять).\n",
    "\n",
    "Класс Designer пишется по аналогии с классом Developer из материалов занятия."
   ],
   "metadata": {
    "id": "PHzpQ27n1ah_"
   }
  },
  {
   "cell_type": "code",
   "source": [
    "class Designer():\n",
    "\n",
    "    \"\"\"\n",
    "    класс принимает 3 значения\n",
    "    имя сотрудника = name\n",
    "    трудовой стаж = seniority\n",
    "    успешное прохождение аккредитации = True или False\n",
    "\n",
    "    в зависимости от этого просчитывается надо ли повышать грейд сотруднику\n",
    "    пример использования:\n",
    "\n",
    "    designer = Designer('САША',3,False)\n",
    "    designer.check_update()\n",
    "    \"\"\"\n",
    "\n",
    "    def __init__(self, name, seniority,accreditation=True):\n",
    "        self.name = name\n",
    "        self.seniority = seniority\n",
    "        self.grade = 1\n",
    "        self.awards = 2\n",
    "        self.accreditation = accreditation\n",
    "    def grade_up(self):\n",
    "        self.grade += 1\n",
    "\n",
    "    def publish_grade(self):\n",
    "        print(self.name, self.grade)\n",
    "\n",
    "    def check_update(self):\n",
    "        if self.accreditation == True:\n",
    "            self.points = self.awards*2 + (self.seniority) + 1 # +1 за успешно прошедшую аккредитацию\n",
    "        else:\n",
    "            self.points = self.awards * 2 + (self.seniority) # если не прошел аккредитацию, то не даем 1 балл\n",
    "\n",
    "        if self.points % 7 == 0:\n",
    "            self.grade_up()\n",
    "        return self.publish_grade()"
   ],
   "metadata": {
    "id": "Wvc52d_K1gTz"
   },
   "execution_count": null,
   "outputs": []
  },
  {
   "cell_type": "code",
   "source": [
    "designer = Designer('САША',3,False)\n",
    "designer.check_update()"
   ],
   "metadata": {
    "colab": {
     "base_uri": "https://localhost:8080/"
    },
    "id": "tyj0FqmD1jog",
    "outputId": "a360224e-c6ff-44cb-cef9-abf4a5154de2"
   },
   "execution_count": null,
   "outputs": [
    {
     "output_type": "stream",
     "name": "stdout",
     "text": [
      "САША 2\n"
     ]
    }
   ]
  },
  {
   "cell_type": "code",
   "source": [
    "designer = Designer('САША',2,True)\n",
    "designer.check_update()"
   ],
   "metadata": {
    "colab": {
     "base_uri": "https://localhost:8080/"
    },
    "id": "BhtXGdQG1ke4",
    "outputId": "c51e930c-6bc9-48fc-d357-179eb772637a"
   },
   "execution_count": null,
   "outputs": [
    {
     "output_type": "stream",
     "name": "stdout",
     "text": [
      "САША 2\n"
     ]
    }
   ]
  },
  {
   "cell_type": "code",
   "source": [
    "designer = Designer('САША',3,True)\n",
    "designer.check_update()"
   ],
   "metadata": {
    "colab": {
     "base_uri": "https://localhost:8080/"
    },
    "id": "jTDRKDNX1m-u",
    "outputId": "7d10b5f3-ba7f-412b-f227-02e8d523c533"
   },
   "execution_count": null,
   "outputs": [
    {
     "output_type": "stream",
     "name": "stdout",
     "text": [
      "САША 1\n"
     ]
    }
   ]
  }
 ]
}
