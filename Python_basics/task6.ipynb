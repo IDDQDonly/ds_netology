{
  "nbformat": 4,
  "nbformat_minor": 0,
  "metadata": {
    "colab": {
      "provenance": []
    },
    "kernelspec": {
      "name": "python3",
      "display_name": "Python 3"
    },
    "language_info": {
      "name": "python"
    }
  },
  "cells": [
    {
      "cell_type": "markdown",
      "source": [
        "Задание 1\n",
        "\n",
        "Печатные газеты использовали свой формат дат для каждого выпуска. Для каждой газеты из списка напишите формат указанной даты для перевода в объект datetime:\n",
        "The Moscow Times — Wednesday, October 2, 2002\n",
        "The Guardian — Friday, 11.10.13\n",
        "Daily News — Thursday, 18 August 1977"
      ],
      "metadata": {
        "id": "96T03IgVKmIM"
      }
    },
    {
      "cell_type": "code",
      "source": [
        "from datetime import datetime\n",
        "import re\n",
        "\n",
        "test = ['The Moscow Times — Wednesday, October 2, 2002', 'The Guardian — Friday, 11.10.13', 'Daily News — Thursday, 18 August 1977']\n",
        "\n",
        "#функция для преобразования строки в datetime с учетом дня недели\n",
        "def convert_to_datetime_with_day(string:str) -> datetime:\n",
        "    split_string = string.split(' — ')\n",
        "    format_list = ['%A, %B %d, %Y','%A, %d.%m.%y','%A, %d %B %Y']\n",
        "\n",
        "    for date_format in format_list:\n",
        "        try:\n",
        "            new_date = datetime.strptime(split_string[1], date_format)\n",
        "            return new_date\n",
        "        except ValueError:\n",
        "            continue\n",
        "    return('строка не подошла ни к одному формату')\n",
        "\n",
        "for item in test: print(convert_to_datetime_with_day(item))"
      ],
      "metadata": {
        "colab": {
          "base_uri": "https://localhost:8080/"
        },
        "id": "eu1SnS5hKmNu",
        "outputId": "0dee80ce-1faf-4e12-edaf-9d0fee451595"
      },
      "execution_count": null,
      "outputs": [
        {
          "output_type": "stream",
          "name": "stdout",
          "text": [
            "2002-10-02 00:00:00\n",
            "2013-10-11 00:00:00\n",
            "1977-08-18 00:00:00\n"
          ]
        }
      ]
    },
    {
      "cell_type": "code",
      "source": [
        "from datetime import datetime\n",
        "import re\n",
        "\n",
        "test = ['The Moscow Times — Wednesday, October 2, 2002', 'The Guardian — Friday, 11.10.13', 'Daily News — Thursday, 18 August 1977']\n",
        "\n",
        "#функция для преобразования строки в datetime без учета дня недели\n",
        "def convert_to_datetime(string:str) -> datetime:\n",
        "\n",
        "    split_string = re.split(r'— \\w*, ',string)\n",
        "    format_list = ['%B %d, %Y','%d.%m.%y','%d %B %Y']\n",
        "    for date_format in format_list:\n",
        "        try:\n",
        "            new_date = datetime.strptime(split_string[1], date_format)\n",
        "            return new_date\n",
        "        except ValueError:\n",
        "            continue\n",
        "    return('строка не подошла ни к одному формату')\n",
        "\n",
        "for item in test: print(convert_to_datetime(item))"
      ],
      "metadata": {
        "colab": {
          "base_uri": "https://localhost:8080/"
        },
        "id": "VHS2W0a4KqRY",
        "outputId": "35b1d83d-40f7-44fa-cf9b-35eb6a6baeb0"
      },
      "execution_count": null,
      "outputs": [
        {
          "output_type": "stream",
          "name": "stdout",
          "text": [
            "2002-10-02 00:00:00\n",
            "2013-10-11 00:00:00\n",
            "1977-08-18 00:00:00\n"
          ]
        }
      ]
    },
    {
      "cell_type": "markdown",
      "source": [
        "Задание 2\n",
        "\n",
        "Дан поток дат в формате YYYY-MM-DD, в которых встречаются некорректные значения:\n",
        "stream = [‘2018-04-02’, ‘2018-02-29’, ‘2018-19-02’]\n",
        "\n",
        "Напишите функцию, которая проверяет эти даты на корректность. То есть для каждой даты возвращает True — дата корректна или False — некорректная."
      ],
      "metadata": {
        "id": "JpwxPtE-K0pQ"
      }
    },
    {
      "cell_type": "code",
      "source": [
        "from datetime import datetime\n",
        "\n",
        "stream = ['2018-04-02', '2018-02-29', '2018-19-02']\n",
        "\n",
        "# функция проверки валидности даты\n",
        "def check_valid_date(string:str) -> bool:\n",
        "    try:\n",
        "        datetime.strptime(string, '%Y-%m-%d')\n",
        "        return True\n",
        "    except ValueError:\n",
        "        return False\n",
        "\n",
        "for item in stream: print(check_valid_date(item))\n",
        "\n"
      ],
      "metadata": {
        "colab": {
          "base_uri": "https://localhost:8080/"
        },
        "id": "SyNOqu6cK3FO",
        "outputId": "327e3f61-dd89-4f39-cc00-830ec6240459"
      },
      "execution_count": null,
      "outputs": [
        {
          "output_type": "stream",
          "name": "stdout",
          "text": [
            "True\n",
            "False\n",
            "False\n"
          ]
        }
      ]
    },
    {
      "cell_type": "markdown",
      "source": [
        "Задание 3\n",
        "\n",
        "Напишите функцию date_range, которая возвращает список дат за период от start_date до end_date. Даты должны вводиться в формате YYYY-MM-DD. В случае неверного формата или при start_date > end_date должен возвращаться пустой список.\n"
      ],
      "metadata": {
        "id": "sdDu7E0PNZiD"
      }
    },
    {
      "cell_type": "code",
      "source": [
        "from datetime import datetime,timedelta\n",
        "\n",
        "def date_range(start_date:str,end_date:str) -> list:\n",
        "    new_list = []\n",
        "    try:\n",
        "        start_date = datetime.strptime(start_date, '%Y-%m-%d')\n",
        "        end_date = datetime.strptime(end_date, '%Y-%m-%d')\n",
        "    except ValueError:\n",
        "        return []\n",
        "    print(start_date)\n",
        "    if start_date > end_date:\n",
        "      return []\n",
        "    else:\n",
        "      while start_date <= end_date:\n",
        "        new_list.append(start_date.strftime('%Y-%m-%d'))\n",
        "        start_date += timedelta(days=1)\n",
        "    return new_list\n",
        "\n",
        "\n",
        "start_date,end_date = map(str,input(f'Введите дату начала YYYY-MM-DD и дату окончания YYYY-MM-DD через запятую\\nпример ввода: 2024-07-07,2024-08-08\\n').split(','))\n",
        "print(date_range(start_date, end_date))"
      ],
      "metadata": {
        "colab": {
          "base_uri": "https://localhost:8080/"
        },
        "id": "4Yj7DI1NNfH7",
        "outputId": "19855623-ce2a-416a-e96b-074e90af84ee"
      },
      "execution_count": null,
      "outputs": [
        {
          "output_type": "stream",
          "name": "stdout",
          "text": [
            "Введите дату начала YYYY-MM-DD и дату окончания YYYY-MM-DD через запятую\n",
            "пример ввода: 2024-07-07,2024-08-08\n",
            "2024-07-07,2024-08-08\n",
            "2024-07-07 00:00:00\n",
            "['2024-07-07', '2024-07-08', '2024-07-09', '2024-07-10', '2024-07-11', '2024-07-12', '2024-07-13', '2024-07-14', '2024-07-15', '2024-07-16', '2024-07-17', '2024-07-18', '2024-07-19', '2024-07-20', '2024-07-21', '2024-07-22', '2024-07-23', '2024-07-24', '2024-07-25', '2024-07-26', '2024-07-27', '2024-07-28', '2024-07-29', '2024-07-30', '2024-07-31', '2024-08-01', '2024-08-02', '2024-08-03', '2024-08-04', '2024-08-05', '2024-08-06', '2024-08-07', '2024-08-08']\n"
          ]
        }
      ]
    },
    {
      "cell_type": "markdown",
      "source": [
        "задание 4\n",
        "\n",
        "##Что значит ошибка list index out of range?\n",
        "\n",
        "ошибка означает, что мы выходим за размерность списка, т.е. в коде происходит обращение к элементу по индексу, но такого индекса в списке нет.\n",
        "\n",
        "##Почему при первом запуске функция работает корректно, а при втором — нет?\n",
        "\n",
        "изначально у нас список из 3 элементов. мы удаляем -1 элемент. получаем размерность списка 2. Индекс DEFAULT_USER_COUNT-2 = 1. такой элемент в списке есть и это будет новый последний элемент (ранее предпоследний). когда мы запускаем наш код повторно, то размерность списка == 2, мы удаляем последний. размерность 1. при выполнение DEFAULT_USER_COUNT-2. мы также пытаемся обратится к первому индексу, хотя в списке сейчас есть один элемент с индексом 0"
      ],
      "metadata": {
        "id": "iyVzq-vrUeSC"
      }
    },
    {
      "cell_type": "code",
      "source": [],
      "metadata": {
        "id": "-BPmS_dIUhX-"
      },
      "execution_count": null,
      "outputs": []
    }
  ]
}