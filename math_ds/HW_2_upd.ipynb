{
 "nbformat": 4,
 "nbformat_minor": 0,
 "metadata": {
  "colab": {
   "name": "HW_2_upd",
   "provenance": [],
   "collapsed_sections": []
  },
  "kernelspec": {
   "name": "python3",
   "display_name": "Python 3 (ipykernel)",
   "language": "python"
  }
 },
 "cells": [
  {
   "cell_type": "markdown",
   "metadata": {
    "id": "_kX74ytuOfgy"
   },
   "source": [
    "# Домашнее задание \"Линейная алгебра. Матрицы\"."
   ]
  },
  {
   "cell_type": "markdown",
   "source": [
    "## Уровень 0:\n"
   ],
   "metadata": {
    "id": "t69IZulqTZMz"
   }
  },
  {
   "cell_type": "markdown",
   "source": [
    "### Задание 1"
   ],
   "metadata": {
    "id": "9JUikPzroAL8"
   }
  },
  {
   "cell_type": "markdown",
   "source": [
    " - Создайте матрицу 3 на 3, заполненную числами от 1 до 9\n",
    " - Прибавьте к ней матрицу с единицами на диагонале\n",
    " - Умножьте полученную матрицу на вектор (1, 2, 3)\n",
    " - Вычислить транспонированную матрицу $A^T$ от полученной в результате прибавления матрицы\n",
    " - Посчитайте обратную матрицу к полученной в результате прибавления матрице\n"
   ],
   "metadata": {
    "id": "ya8BlSO5nQ9a"
   }
  },
  {
   "cell_type": "code",
   "source": [
    "import numpy as np\n",
    "\n",
    "mat_a = np.array([[1, 2, 3],[4, 5, 6],[7, 8, 9]])\n",
    "mat_b = np.array([[1, 0, 0],[0, 1, 0],[0, 0, 1]])\n",
    "mat_c = mat_a + mat_b\n",
    "\n",
    "mat_d = mat_c @ np.array([1, 2, 3])\n",
    "\n",
    "mat_e = mat_c.T\n",
    "\n",
    "mat_f = np.linalg.inv(mat_c)\n",
    "\n",
    "print(mat_c)"
   ],
   "metadata": {
    "id": "hZ34229YdNlq",
    "ExecuteTime": {
     "end_time": "2025-01-22T16:54:55.544518Z",
     "start_time": "2025-01-22T16:54:55.539515Z"
    }
   },
   "outputs": [
    {
     "name": "stdout",
     "output_type": "stream",
     "text": [
      "[[ 2  2  3]\n",
      " [ 4  6  6]\n",
      " [ 7  8 10]]\n"
     ]
    }
   ],
   "execution_count": 9
  },
  {
   "cell_type": "markdown",
   "source": [
    "### Задание 2"
   ],
   "metadata": {
    "id": "gUB5Tx31oDZB"
   }
  },
  {
   "cell_type": "markdown",
   "source": [
    "Найдите собственные значения и собственные вектора матрицы:\n",
    "```\n",
    "m = np.array([[2, 2],\n",
    "              [1, 3]])\n",
    "print(m)\n",
    "```\n",
    "\n"
   ],
   "metadata": {
    "id": "Jh-pEPj-TcDQ"
   }
  },
  {
   "cell_type": "code",
   "source": [
    "import numpy as np\n",
    "\n",
    "m = np.array([[2, 2],\n",
    "              [1, 3]])\n",
    "\n",
    "eigenvalues, eigenvectors = np.linalg.eig(m)\n",
    "\n",
    "print(\"Собственные значения:\", eigenvalues)\n",
    "print(\"Собственные векторы:\")\n",
    "print(eigenvectors)\n"
   ],
   "metadata": {
    "id": "1OeJWLrpobqU",
    "ExecuteTime": {
     "end_time": "2025-01-22T17:04:36.333662Z",
     "start_time": "2025-01-22T17:04:36.330409Z"
    }
   },
   "outputs": [
    {
     "name": "stdout",
     "output_type": "stream",
     "text": [
      "Собственные значения: [1. 4.]\n",
      "Собственные векторы:\n",
      "[[-0.89442719 -0.70710678]\n",
      " [ 0.4472136  -0.70710678]]\n"
     ]
    }
   ],
   "execution_count": 15
  },
  {
   "cell_type": "markdown",
   "source": [
    "### Задание 3\n"
   ],
   "metadata": {
    "id": "Tj14Nn3NOp8s"
   }
  },
  {
   "cell_type": "markdown",
   "source": [
    "Придумайте матрицу, у которой определитель = 1, и все элементы не равны 0.\n",
    "\n",
    "P.S. Матрица должна быть ненулевой и размерностью не менее 2! "
   ],
   "metadata": {
    "id": "JMjSYrp4OrpG"
   }
  },
  {
   "cell_type": "code",
   "source": [
    "import numpy as np\n",
    "\n",
    "def find_matrix_with_determinant(size, target_det=1, max_attempts=10000):\n",
    "    \"\"\"\n",
    "    Находит случайную матрицу заданной размерности с определителем равным target_det.\n",
    "    \n",
    "    :param size: Размерность квадратной матрицы (size x size)\n",
    "    :param target_det: Целевое значение определителя (по умолчанию 1)\n",
    "    :param max_attempts: Максимальное количество попыток (по умолчанию 10,000)\n",
    "    :return: Найденная матрица или None, если матрица не найдена\n",
    "    \"\"\"\n",
    "    for _ in range(max_attempts):\n",
    "        # Генерируем случайную матрицу с целыми числами от 1 до 10\n",
    "        matrix = np.random.randint(1, 10, (size, size))\n",
    "        det = round(np.linalg.det(matrix))\n",
    "        if det == target_det:\n",
    "            return matrix\n",
    "    return None\n",
    "size = 3\n",
    "matrix = find_matrix_with_determinant(size, target_det=1)\n",
    "\n",
    "if matrix is not None:\n",
    "    print(\"Найдена матрица с определителем 1:\")\n",
    "    \n",
    "    print(matrix)\n",
    "    print(\"Определитель:\", round(np.linalg.det(matrix)))\n",
    "else:\n",
    "    print(\"Матрица с определителем 1 не была найдена.\")\n"
   ],
   "metadata": {
    "id": "hRov-LJgOrz0",
    "ExecuteTime": {
     "end_time": "2025-01-22T17:26:21.840744Z",
     "start_time": "2025-01-22T17:26:21.830765Z"
    }
   },
   "outputs": [
    {
     "name": "stdout",
     "output_type": "stream",
     "text": [
      "Найдена матрица с определителем 1:\n",
      "[[1 4 2]\n",
      " [2 2 3]\n",
      " [2 9 4]]\n",
      "Определитель: 1\n"
     ]
    }
   ],
   "execution_count": 38
  },
  {
   "metadata": {
    "ExecuteTime": {
     "end_time": "2025-01-22T17:25:57.593288Z",
     "start_time": "2025-01-22T17:25:57.591155Z"
    }
   },
   "cell_type": "code",
   "source": "",
   "outputs": [],
   "execution_count": null
  }
 ]
}
