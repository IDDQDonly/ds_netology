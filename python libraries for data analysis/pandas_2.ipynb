{
  "nbformat": 4,
  "nbformat_minor": 0,
  "metadata": {
    "colab": {
      "provenance": []
    },
    "kernelspec": {
      "name": "python3",
      "display_name": "Python 3"
    },
    "language_info": {
      "name": "python"
    }
  },
  "cells": [
    {
      "cell_type": "markdown",
      "source": [
        "##Задание 1\n",
        "Напишите функцию, которая классифицирует фильмы из материалов занятия по правилам:\n",
        "\n",
        "оценка 2 и ниже — низкий рейтинг;\n",
        "оценка 4 и ниже — средний рейтинг;\n",
        "оценка 4.5 и 5 — высокий рейтинг.\n",
        "Результат классификации запишите в столбец class."
      ],
      "metadata": {
        "id": "roYVIPKvkj3D"
      }
    },
    {
      "cell_type": "code",
      "source": [
        "import pandas as pd\n",
        "\n",
        "def open_file(file_path):\n",
        "    data = pd.read_csv(file_path)\n",
        "    return data\n",
        "\n",
        "def rating_classifier(rating_path, movies_path):\n",
        "    data_rating = open_file(rating_path)\n",
        "    #print(data_rating['rating'] <= 2.0).head(10)\n",
        "    data_movies = open_file(movies_path)\n",
        "    def low_rating():\n",
        "        table_low_rating = data_rating[data_rating['rating'] <= 2.0] # фильмы с рейтингом 2 и ниже\n",
        "        table_low_rating_filtered = table_low_rating[['movieId', 'rating']] # отсекаем лишнее из файла. оставляем только movieid и рейтинг\n",
        "        merge_table = pd.merge(table_low_rating_filtered, data_movies, on='movieId', how='left') # объединяем таблицы\n",
        "        fitlred_table = merge_table[['movieId', 'title', 'rating', 'genres']] # оставляем только нужные столбцы\n",
        "        return fitlred_table.head(10)\n",
        "\n",
        "    def middle_rating():\n",
        "        table_low_rating = data_rating[ (data_rating['rating'] > 2.0) & (data_rating['rating'] <= 4.0) ] # фильмы с рейтингом выше 2 до 4\n",
        "        table_low_rating_filtered = table_low_rating[['movieId', 'rating']] # отсекаем лишнее из файла. оставляем только movieid и рейтинг\n",
        "        merge_table = pd.merge(table_low_rating_filtered, data_movies, on='movieId', how='left') # объединяем таблицы\n",
        "        fitlred_table = merge_table[['movieId', 'title', 'rating', 'genres']] # оставляем только нужные столбцы\n",
        "        return fitlred_table.head(10)\n",
        "\n",
        "    def high_rating():\n",
        "        table_low_rating = data_rating[ (data_rating['rating'] >= 4.0) & (data_rating['rating'] <= 5.0) ] # фильмы с рейтингом выше 4 до 5\n",
        "        table_low_rating_filtered = table_low_rating[['movieId', 'rating']] # отсекаем лишнее из файла. оставляем только movieid и рейтинг\n",
        "        merge_table = pd.merge(table_low_rating_filtered, data_movies, on='movieId', how='left') # объединяем таблицы\n",
        "        fitlred_table = merge_table[['movieId', 'title', 'rating', 'genres']] # оставляем только нужные столбцы\n",
        "        return fitlred_table.head(10)\n",
        "\n",
        "    low = low_rating()\n",
        "    middle = middle_rating()\n",
        "    high = high_rating()\n",
        "    print(f\"низкий рейтинг:\\n {low.to_string(header=False, index=False)}\\n\")\n",
        "    print(f\"средний рейтинг:\\n {middle.to_string(header=False, index=False)}\\n\")\n",
        "    print(f\"высокий рейтинг:\\n {high.to_string(header=False, index=False)}\\n\")\n",
        "\n",
        "rating_classifier(rating_path = 'data_for_homework/ratings.csv', movies_path = 'data_for_homework/movies.csv')"
      ],
      "metadata": {
        "id": "ErRc_ug-knIh"
      },
      "execution_count": null,
      "outputs": []
    },
    {
      "cell_type": "markdown",
      "source": [
        "##Результат\n",
        "\n",
        "\n",
        "\n",
        "```\n",
        "низкий рейтинг:\n",
        " 1129            Escape from New York (1981) 2.0            Action|Adventure|Sci-Fi|Thriller\n",
        "1263                Deer Hunter, The (1978) 2.0                                   Drama|War\n",
        "1287                         Ben-Hur (1959) 2.0                      Action|Adventure|Drama\n",
        "1293                          Gandhi (1982) 2.0                                       Drama\n",
        "1343                       Cape Fear (1991) 2.0                                    Thriller\n",
        "1405 Beavis and Butt-Head Do America (1996) 1.0            Adventure|Animation|Comedy|Crime\n",
        "2193                          Willow (1988) 2.0                    Action|Adventure|Fantasy\n",
        "2294                            Antz (1998) 2.0 Adventure|Animation|Children|Comedy|Fantasy\n",
        "2968                    Time Bandits (1981) 1.0             Adventure|Comedy|Fantasy|Sci-Fi\n",
        " 223                          Clerks (1994) 1.0                                      Comedy\n",
        "\n",
        "средний рейтинг:\n",
        "   31                         Dangerous Minds (1995) 2.5                            Drama\n",
        "1029                                   Dumbo (1941) 3.0 Animation|Children|Drama|Musical\n",
        "1061                                Sleepers (1996) 3.0                         Thriller\n",
        "1172 Cinema Paradiso (Nuovo cinema Paradiso) (1989) 4.0                            Drama\n",
        "1339         Dracula (Bram Stoker's Dracula) (1992) 3.5  Fantasy|Horror|Romance|Thriller\n",
        "1371           Star Trek: The Motion Picture (1979) 2.5                 Adventure|Sci-Fi\n",
        "1953                  French Connection, The (1971) 4.0            Action|Crime|Thriller\n",
        "2105                                    Tron (1982) 4.0          Action|Adventure|Sci-Fi\n",
        "2150                 Gods Must Be Crazy, The (1980) 3.0                 Adventure|Comedy\n",
        "2455                                Fly, The (1986) 2.5     Drama|Horror|Sci-Fi|Thriller\n",
        "\n",
        "высокий рейтинг:\n",
        "  17                               Sense and Sensibility (1995) 5.0                      Drama|Romance\n",
        " 39                                            Clueless (1995) 5.0                     Comedy|Romance\n",
        "150                                           Apollo 13 (1995) 5.0               Adventure|Drama|IMAX\n",
        "222                                   Circle of Friends (1995) 5.0                      Drama|Romance\n",
        "265 Like Water for Chocolate (Como agua para chocolate) (1992) 5.0              Drama|Fantasy|Romance\n",
        "266                                 Legends of the Fall (1994) 5.0          Drama|Romance|War|Western\n",
        "551                     Nightmare Before Christmas, The (1993) 5.0 Animation|Children|Fantasy|Musical\n",
        "585                              Brady Bunch Movie, The (1995) 5.0                             Comedy\n",
        "589                          Terminator 2: Judgment Day (1991) 5.0                      Action|Sci-Fi\n",
        "590                                  Dances with Wolves (1990) 5.0            Adventure|Drama|Western\n",
        "```\n",
        "\n"
      ],
      "metadata": {
        "id": "ydnMHsbplE7J"
      }
    },
    {
      "cell_type": "markdown",
      "source": [
        "##Задание 2\n",
        "Используйте файл keywords.csv.\n",
        "\n",
        "Нужно написать гео-классификатор, который каждой строке сможет выставить географическую принадлежность определённому региону. Т. е. если поисковый запрос содержит название города региона, то в столбце ‘region’ пишется название этого региона. Если поисковый запрос не содержит названия города, то ставим ‘undefined’.\n",
        "\n",
        "Правила распределения по регионам Центр, Северо-Запад и Дальний Восток:\n",
        "\n",
        "```\n",
        "geo_data = {\n",
        "'Центр': ['москва', 'тула', 'ярославль'],\n",
        "\n",
        "'Северо-Запад': ['петербург', 'псков', 'мурманск'],\n",
        "\n",
        "'Дальний Восток': ['владивосток', 'сахалин', 'хабаровск']\n",
        "}\n",
        "```\n",
        "\n",
        "\n",
        "Результат классификации запишите в отдельный столбец region."
      ],
      "metadata": {
        "id": "Hi6Z2ZwXku-B"
      }
    },
    {
      "cell_type": "code",
      "source": [
        "import pandas as pd"
      ],
      "metadata": {
        "id": "43e1Rcl0Xxte"
      },
      "execution_count": null,
      "outputs": []
    },
    {
      "cell_type": "code",
      "source": [
        "import pandas as pd\n",
        "\n",
        "geo_data = pd.DataFrame({\n",
        "    'Центр': ['москва', 'тула', 'ярославль'],\n",
        "    'Северо-Запад': ['петербург', 'псков', 'мурманск'],\n",
        "    'Дальний Восток': ['владивосток', 'сахалин', 'хабаровск']\n",
        "})\n",
        "\n",
        "def geo_classifier(keywords_path,geo_data):\n",
        "\n",
        "    keywords = pd.read_csv(keywords_path)\n",
        "\n",
        "    # Извлечение всех уникальных слов из всех столбцов\n",
        "    all_words = geo_data.values.flatten()  # Преобразуем DataFrame в одномерный массив\n",
        "    all_words = pd.Series(all_words).unique()  # Получаем уникальные слова\n",
        "\n",
        "    # Проверка наличия слов в каждом из строк keywords\n",
        "    def check_keywords(keyword):\n",
        "        found_words = [word for word in all_words if word in keyword]\n",
        "        return found_words if found_words else 'undefined'\n",
        "\n",
        "    # Применяем функцию к столбцу 'keyword'\n",
        "    keywords['region'] = keywords['keyword'].apply(check_keywords)\n",
        "    return keywords\n",
        "print(geo_classifier(keywords_path = 'keywords.csv',geo_data = geo_data).head(130))"
      ],
      "metadata": {
        "id": "H389eF61k55u",
        "outputId": "b8305d03-3b60-47e1-d74d-242108f538ad",
        "colab": {
          "base_uri": "https://localhost:8080/"
        }
      },
      "execution_count": null,
      "outputs": [
        {
          "output_type": "stream",
          "name": "stdout",
          "text": [
            "             keyword     shows     region\n",
            "0                 вк  64292779  undefined\n",
            "1      одноклассники  63810309  undefined\n",
            "2              порно  41747114  undefined\n",
            "3               ютуб  39995567  undefined\n",
            "4          вконтакте  21014195  undefined\n",
            "..               ...       ...        ...\n",
            "125  школьный портал    982692  undefined\n",
            "126  вк моя страница    979105  undefined\n",
            "127     авито москва    979292   [москва]\n",
            "128      спортмастер    968154  undefined\n",
            "129  новости украины    965720  undefined\n",
            "\n",
            "[130 rows x 3 columns]\n"
          ]
        }
      ]
    },
    {
      "cell_type": "markdown",
      "source": [
        "##Результат\n",
        "\n",
        "\n",
        "\n",
        "```\n",
        "             keyword     shows     region\n",
        "0                 вк  64292779  undefined\n",
        "1      одноклассники  63810309  undefined\n",
        "2              порно  41747114  undefined\n",
        "3               ютуб  39995567  undefined\n",
        "4          вконтакте  21014195  undefined\n",
        "..               ...       ...        ...\n",
        "125  школьный портал    982692  undefined\n",
        "126  вк моя страница    979105  undefined\n",
        "127     авито москва    979292   [москва]\n",
        "128      спортмастер    968154  undefined\n",
        "129  новости украины    965720  undefined\n",
        "```\n",
        "\n"
      ],
      "metadata": {
        "id": "-C4J4thZlXLo"
      }
    },
    {
      "cell_type": "markdown",
      "source": [
        "##Задание 3 (бонусное)\n",
        "\n",
        "Есть мнение, что раньше снимали настоящее кино, не то что сейчас. Ваша задача — проверить это утверждение, используя файлы с рейтингами фильмов из прошлого домашнего занятия: файл movies.csv и ratings.csv из базы. Нужно проверить, верно ли, что с ростом года выпуска фильма его средний рейтинг становится ниже.\n",
        "\n",
        "Вы не будете затрагивать субьективные факторы выставления этих рейтингов, а пройдётесь по алгоритму:\n",
        "\n",
        "В переменную years запишите список из всех годов с 1950 по 2010 года.\n",
        "Напишите функцию production_year, которая каждой строке из названия фильма выставляет год выпуска. Не все названия фильмов содержат год выпуска в одинаковом формате, поэтому используйте алгоритм:\n",
        "для каждой строки пройдите по всем годам списка years;\n",
        "если номер года присутствует в названии фильма, то функция возвращает этот год, как год выпуска;\n",
        "если ни один из номеров года списка years не встретился в названии фильма, то возвращается 1900 год.\n",
        "Запишите год выпуска фильма по алгоритму пункта 2 в новый столбец ‘year’.\n",
        "Посчитайте средний рейтинг всех фильмов для каждого значения столбца ‘year’ и отсортируйте результат по убыванию рейтинга."
      ],
      "metadata": {
        "id": "R_WECWc2l0sE"
      }
    },
    {
      "cell_type": "code",
      "source": [
        "import pandas as pd\n",
        "\n",
        "data_movies = pd.read_csv('data_for_homework/movies.csv')\n",
        "data_ratings = pd.read_csv('data_for_homework/ratings.csv')\n",
        "\n",
        "years = list(range(1950, 2011))\n",
        "def production_year(years = years):\n",
        "    # проверка что срез попал на скобки (), так как дата указывается в скобках, проверяем есть ли такая дата в списке дат years, если нет то выставляем 1900\n",
        "    data_movies['year'] = data_movies['title'].apply(lambda x: x[-5:-1] if x[-6] == '(' and x[-1] == ')' and int(x[-5:-1]) in years else '1900')\n",
        "    # Объединение данных\n",
        "    merge = pd.merge(data_movies, data_ratings, on='movieId')\n",
        "\n",
        "    # Группировка по 'year' и вычисление среднего рейтинга\n",
        "    grouped_data = merge.groupby('year')['rating'].mean().reset_index().sort_values(by='rating', ascending=False)\n",
        "    return grouped_data\n",
        "\n",
        "print(production_year())\n"
      ],
      "metadata": {
        "id": "qb7GDN6VlZ5d"
      },
      "execution_count": null,
      "outputs": []
    },
    {
      "cell_type": "markdown",
      "source": [
        "#Результат\n",
        "\n",
        "\n",
        "```\n",
        "    year    rating\n",
        "8   1957  4.014241\n",
        "23  1972  4.011136\n",
        "3   1952  4.000000\n",
        "5   1954  3.994220\n",
        "2   1951  3.983539\n",
        "..   ...       ...\n",
        "56  2005  3.448434\n",
        "54  2003  3.444777\n",
        "47  1996  3.426600\n",
        "48  1997  3.415764\n",
        "51  2000  3.355945\n",
        "\n",
        "[62 rows x 2 columns]\n",
        "```\n",
        "\n"
      ],
      "metadata": {
        "id": "Jx206kMrl8CL"
      }
    }
  ]
}