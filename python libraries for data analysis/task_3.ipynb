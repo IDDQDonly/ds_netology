{
  "cells": [
    {
      "cell_type": "code",
      "id": "initial_id",
      "metadata": {
        "collapsed": true,
        "ExecuteTime": {
          "end_time": "2024-11-11T10:09:23.514947Z",
          "start_time": "2024-11-11T10:09:23.207099Z"
        },
        "id": "initial_id"
      },
      "source": [
        "import pandas as pd"
      ],
      "outputs": [],
      "execution_count": null
    },
    {
      "metadata": {
        "id": "6146d1a06d7ced15"
      },
      "cell_type": "markdown",
      "source": [
        "### Задание 1\n",
        "Для датафрейма log из материалов занятия создайте столбец source_type по правилам:\n",
        "\n",
        "если источник traffic_source равен Yandex или Google, то в source_type ставится organic;\n",
        "для источников paid и email из России ставим ad;\n",
        "для источников paid и email не из России ставим other;\n",
        "все остальные варианты берём из traffic_source без изменений."
      ],
      "id": "6146d1a06d7ced15"
    },
    {
      "metadata": {
        "ExecuteTime": {
          "end_time": "2024-11-11T10:10:27.324632Z",
          "start_time": "2024-11-11T10:10:27.295573Z"
        },
        "id": "d205a4fdf11488e9",
        "outputId": "2cbde7fd-9dd4-4b5c-bf2d-b30523168803"
      },
      "cell_type": "code",
      "source": [
        "# вариант 1\n",
        "data_log = pd.read_csv('data_for_homework/visit_log.csv', sep=';')\n",
        "data_log['source_type'] = data_log['traffic_source']\n",
        "data_log.loc[data_log['traffic_source'].isin(['yandex', 'google']), 'source_type'] = 'organic'\n",
        "data_log.loc[(data_log['traffic_source'].isin(['paid', 'email'])) & (data_log['region'] == 'Russia'), 'source_type'] = 'ad'\n",
        "data_log.loc[(data_log['traffic_source'].isin(['paid', 'email'])) & (data_log['region'] != 'Russia'), 'source_type'] = 'other'\n",
        "print(data_log)"
      ],
      "id": "d205a4fdf11488e9",
      "outputs": [
        {
          "name": "stdout",
          "output_type": "stream",
          "text": [
            "        timestamp    visit_id                                 url   region  \\\n",
            "0      1549980692  e3b0c44298  https://host.ru/3c19b4ef7371864fa3   Russia   \n",
            "1      1549980704  6e340b9cff  https://host.ru/c8d9213a31839f9a3a   Russia   \n",
            "2      1549980715  96a296d224  https://host.ru/b8b58337d272ee7b15   Russia   \n",
            "3      1549980725  709e80c884  https://host.ru/b8b58337d272ee7b15   Russia   \n",
            "4      1549980736  df3f619804  https://host.ru/b8b58337d272ee7b15   Russia   \n",
            "...           ...         ...                                 ...      ...   \n",
            "18933  1550094288  57e5ba8560  https://host.ru/c2382eb3d6afc8d0f3  Belarus   \n",
            "18934  1550094296  6f9389ec1b  https://host.ru/f1eb4601740d627ab0   Russia   \n",
            "18935  1550094308  e8cf2eb8e6  https://host.ru/a5dda93e70318570c0  Belarus   \n",
            "18936  1550094314  79530b9a67  https://host.ru/6fda01ec57f23abc9e   Russia   \n",
            "18937  1550094323  b3b634f824  https://host.ru/39fa884393666d45fc   Russia   \n",
            "\n",
            "          user_id traffic_source source_type  \n",
            "0      b1613cc09f         yandex     organic  \n",
            "1      4c3ec14bee         direct      direct  \n",
            "2      a8c40697fb         yandex     organic  \n",
            "3      521ac1d6a0         yandex     organic  \n",
            "4      d7323c571c         yandex     organic  \n",
            "...           ...            ...         ...  \n",
            "18933  98b19810d0           paid       other  \n",
            "18934  32ebb20c13           paid          ad  \n",
            "18935  b85baa8c73         yandex     organic  \n",
            "18936  e154b06121           paid          ad  \n",
            "18937  7d27a58fb8          email          ad  \n",
            "\n",
            "[18938 rows x 7 columns]\n"
          ]
        }
      ],
      "execution_count": null
    },
    {
      "metadata": {
        "ExecuteTime": {
          "end_time": "2024-11-11T10:10:29.574229Z",
          "start_time": "2024-11-11T10:10:29.473602Z"
        },
        "id": "9d74a762cfba5343",
        "outputId": "34a30ce0-1ce5-4b77-b2f6-ae67cf3adb46"
      },
      "cell_type": "code",
      "source": [
        "#вариант 2\n",
        "def check_source_type(row):\n",
        "    if row['traffic_source'] in ['yandex', 'google']:\n",
        "        return 'organic'\n",
        "    elif row['traffic_source'] in ['paid', 'email'] and row['region'] == 'Russia':\n",
        "        return 'ad'\n",
        "    elif row['traffic_source'] in ['paid', 'email'] and row['region'] != 'Russia':\n",
        "        return 'other'\n",
        "    else:\n",
        "        return row['traffic_source']\n",
        "\n",
        "def source_type():\n",
        "    data_log['source_type'] = data_log.apply(check_source_type, axis=1)\n",
        "    return data_log\n",
        "print(source_type())"
      ],
      "id": "9d74a762cfba5343",
      "outputs": [
        {
          "name": "stdout",
          "output_type": "stream",
          "text": [
            "        timestamp    visit_id                                 url   region  \\\n",
            "0      1549980692  e3b0c44298  https://host.ru/3c19b4ef7371864fa3   Russia   \n",
            "1      1549980704  6e340b9cff  https://host.ru/c8d9213a31839f9a3a   Russia   \n",
            "2      1549980715  96a296d224  https://host.ru/b8b58337d272ee7b15   Russia   \n",
            "3      1549980725  709e80c884  https://host.ru/b8b58337d272ee7b15   Russia   \n",
            "4      1549980736  df3f619804  https://host.ru/b8b58337d272ee7b15   Russia   \n",
            "...           ...         ...                                 ...      ...   \n",
            "18933  1550094288  57e5ba8560  https://host.ru/c2382eb3d6afc8d0f3  Belarus   \n",
            "18934  1550094296  6f9389ec1b  https://host.ru/f1eb4601740d627ab0   Russia   \n",
            "18935  1550094308  e8cf2eb8e6  https://host.ru/a5dda93e70318570c0  Belarus   \n",
            "18936  1550094314  79530b9a67  https://host.ru/6fda01ec57f23abc9e   Russia   \n",
            "18937  1550094323  b3b634f824  https://host.ru/39fa884393666d45fc   Russia   \n",
            "\n",
            "          user_id traffic_source source_type  \n",
            "0      b1613cc09f         yandex     organic  \n",
            "1      4c3ec14bee         direct      direct  \n",
            "2      a8c40697fb         yandex     organic  \n",
            "3      521ac1d6a0         yandex     organic  \n",
            "4      d7323c571c         yandex     organic  \n",
            "...           ...            ...         ...  \n",
            "18933  98b19810d0           paid       other  \n",
            "18934  32ebb20c13           paid          ad  \n",
            "18935  b85baa8c73         yandex     organic  \n",
            "18936  e154b06121           paid          ad  \n",
            "18937  7d27a58fb8          email          ad  \n",
            "\n",
            "[18938 rows x 7 columns]\n"
          ]
        }
      ],
      "execution_count": null
    },
    {
      "metadata": {
        "id": "76754de2900ea1f6"
      },
      "cell_type": "markdown",
      "source": [
        "### Задание 2\n",
        "В файле URLs.txt содержатся URL страниц новостного сайта. Вам нужно отфильтровать его по адресам страниц с текстами новостей. Известно, что шаблон страницы новостей имеет внутри URL конструкцию: /, затем 8 цифр, затем дефис. Выполните действия:\n",
        "\n",
        "Прочитайте содержимое файла с датафрейм.\n",
        "Отфильтруйте страницы с текстом новостей, используя метод str.contains и регулярное выражение в соответствие с заданным шаблоном."
      ],
      "id": "76754de2900ea1f6"
    },
    {
      "metadata": {
        "ExecuteTime": {
          "end_time": "2024-11-11T10:10:59.007287Z",
          "start_time": "2024-11-11T10:10:59.005305Z"
        },
        "id": "1b135feeb5c94c5f"
      },
      "cell_type": "code",
      "source": [
        "import re"
      ],
      "id": "1b135feeb5c94c5f",
      "outputs": [],
      "execution_count": null
    },
    {
      "metadata": {
        "ExecuteTime": {
          "end_time": "2024-11-11T10:11:04.696728Z",
          "start_time": "2024-11-11T10:11:04.692037Z"
        },
        "id": "4ce7e388294e5e3f",
        "outputId": "65572b75-7dca-4707-ec75-2cd4410d993a"
      },
      "cell_type": "code",
      "source": [
        "pattern = '\\/\\d{8}-'\n",
        "df = pd.read_csv('data_for_homework/URLs.txt')\n",
        "filtered_df = df[df['url'].str.contains(pattern)]\n",
        "print(filtered_df)"
      ],
      "id": "4ce7e388294e5e3f",
      "outputs": [
        {
          "name": "stdout",
          "output_type": "stream",
          "text": [
            "                                                  url\n",
            "3   /politics/36188461-s-marta-zhizn-rossiyan-susc...\n",
            "4   /world/36007585-tramp-pridumal-kak-reshit-ukra...\n",
            "5   /science/36157853-nasa-sobiraet-ekstrennuyu-pr...\n",
            "6   /video/36001498-poyavilis-pervye-podrobnosti-g...\n",
            "7   /world/36007585-tramp-pridumal-kak-reshit-ukra...\n",
            "..                                                ...\n",
            "88  /cis/35984145-kreml-prokommentiroval-soobschen...\n",
            "89  /video/36071019-olimpiyskie-obekty-rio-prevrat...\n",
            "90  /science/36151301-nazvano-posledstvie-zloupotr...\n",
            "91  /incidents/36027330-vospitatelnitsu-zatravili-...\n",
            "92  /world/36103095-dominikanskih-zhurnalistov-ubi...\n",
            "\n",
            "[84 rows x 1 columns]\n"
          ]
        }
      ],
      "execution_count": null
    },
    {
      "metadata": {
        "id": "ac220df9fd9c087d"
      },
      "cell_type": "markdown",
      "source": [
        "### Задание 3\n",
        "Используйте файл с оценками фильмов ml-latest-small/ratings.csv.\n",
        "Посчитайте среднее время жизни пользователей, которые выставили более 100 оценок.\n",
        "Под временем жизни понимается разница между максимальным и минимальным значениями столбца timestamp для данного значения userId."
      ],
      "id": "ac220df9fd9c087d"
    },
    {
      "metadata": {
        "ExecuteTime": {
          "end_time": "2024-11-11T10:11:44.594271Z",
          "start_time": "2024-11-11T10:11:44.559680Z"
        },
        "id": "7fe37c693377c79b",
        "outputId": "246589a1-6546-42c2-b57c-a208846803a6"
      },
      "cell_type": "code",
      "source": [
        "ratings = pd.read_csv('data_for_homework/ml-latest-small/ratings.csv')\n",
        "user_ratings_count = ratings.groupby('userId')['rating'].count()\n",
        "user_ratings_count = user_ratings_count[user_ratings_count > 100].index\n",
        "active_user_ratings = ratings[ratings['userId'].isin(user_ratings_count)]\n",
        "user_lifetime = active_user_ratings.groupby('userId')['timestamp'].agg(lambda x: x.max() - x.min())\n",
        "average_lifetime = user_lifetime.mean()\n",
        "print(average_lifetime)"
      ],
      "id": "7fe37c693377c79b",
      "outputs": [
        {
          "name": "stdout",
          "output_type": "stream",
          "text": [
            "40080507.4496124\n"
          ]
        }
      ],
      "execution_count": null
    },
    {
      "metadata": {
        "id": "1fe8d62c29506149"
      },
      "cell_type": "markdown",
      "source": [
        "### Задание 4\n",
        "Дана статистика услуг перевозок клиентов компании по типам (см. файл “Python_13_join.ipynb” в разделе «Материалы для лекции “Продвинутый pandas”» ---- Ноутбуки к лекции «Продвинутый pandas»).\n",
        "Нужно сформировать две таблицы:\n",
        "\n",
        "таблицу с тремя типами выручки для каждого client_id без указания адреса клиента;\n",
        "аналогичную таблицу по типам выручки с указанием адреса клиента.\n",
        "Обратите внимание, что в процессе объединения таблиц данные не должны теряться.\n"
      ],
      "id": "1fe8d62c29506149"
    },
    {
      "metadata": {
        "ExecuteTime": {
          "end_time": "2024-11-11T10:18:49.427303Z",
          "start_time": "2024-11-11T10:18:49.421737Z"
        },
        "id": "905ead69f03271f6",
        "outputId": "3e4f7e55-0ccb-49dc-80bb-4698eedf87b6"
      },
      "cell_type": "code",
      "source": [
        "rzd = pd.DataFrame(\n",
        "    {\n",
        "        'client_id': [111, 112, 113, 114, 115],\n",
        "        'rzd_revenue': [1093, 2810, 10283, 5774, 981]\n",
        "    }\n",
        ")\n",
        "rzd"
      ],
      "id": "905ead69f03271f6",
      "outputs": [
        {
          "data": {
            "text/plain": [
              "   client_id  rzd_revenue\n",
              "0        111         1093\n",
              "1        112         2810\n",
              "2        113        10283\n",
              "3        114         5774\n",
              "4        115          981"
            ],
            "text/html": [
              "<div>\n",
              "<style scoped>\n",
              "    .dataframe tbody tr th:only-of-type {\n",
              "        vertical-align: middle;\n",
              "    }\n",
              "\n",
              "    .dataframe tbody tr th {\n",
              "        vertical-align: top;\n",
              "    }\n",
              "\n",
              "    .dataframe thead th {\n",
              "        text-align: right;\n",
              "    }\n",
              "</style>\n",
              "<table border=\"1\" class=\"dataframe\">\n",
              "  <thead>\n",
              "    <tr style=\"text-align: right;\">\n",
              "      <th></th>\n",
              "      <th>client_id</th>\n",
              "      <th>rzd_revenue</th>\n",
              "    </tr>\n",
              "  </thead>\n",
              "  <tbody>\n",
              "    <tr>\n",
              "      <th>0</th>\n",
              "      <td>111</td>\n",
              "      <td>1093</td>\n",
              "    </tr>\n",
              "    <tr>\n",
              "      <th>1</th>\n",
              "      <td>112</td>\n",
              "      <td>2810</td>\n",
              "    </tr>\n",
              "    <tr>\n",
              "      <th>2</th>\n",
              "      <td>113</td>\n",
              "      <td>10283</td>\n",
              "    </tr>\n",
              "    <tr>\n",
              "      <th>3</th>\n",
              "      <td>114</td>\n",
              "      <td>5774</td>\n",
              "    </tr>\n",
              "    <tr>\n",
              "      <th>4</th>\n",
              "      <td>115</td>\n",
              "      <td>981</td>\n",
              "    </tr>\n",
              "  </tbody>\n",
              "</table>\n",
              "</div>"
            ]
          },
          "execution_count": 10,
          "metadata": {},
          "output_type": "execute_result"
        }
      ],
      "execution_count": null
    },
    {
      "metadata": {
        "ExecuteTime": {
          "end_time": "2024-11-11T10:18:51.504243Z",
          "start_time": "2024-11-11T10:18:51.498744Z"
        },
        "id": "c407a4e4f568b169",
        "outputId": "398a29ed-3516-4e9f-cc97-2aa515fcb181"
      },
      "cell_type": "code",
      "source": [
        "auto = pd.DataFrame(\n",
        "    {\n",
        "        'client_id': [113, 114, 115, 116, 117],\n",
        "        'auto_revenue': [57483, 83, 912, 4834, 98]\n",
        "    }\n",
        ")\n",
        "auto"
      ],
      "id": "c407a4e4f568b169",
      "outputs": [
        {
          "data": {
            "text/plain": [
              "   client_id  auto_revenue\n",
              "0        113         57483\n",
              "1        114            83\n",
              "2        115           912\n",
              "3        116          4834\n",
              "4        117            98"
            ],
            "text/html": [
              "<div>\n",
              "<style scoped>\n",
              "    .dataframe tbody tr th:only-of-type {\n",
              "        vertical-align: middle;\n",
              "    }\n",
              "\n",
              "    .dataframe tbody tr th {\n",
              "        vertical-align: top;\n",
              "    }\n",
              "\n",
              "    .dataframe thead th {\n",
              "        text-align: right;\n",
              "    }\n",
              "</style>\n",
              "<table border=\"1\" class=\"dataframe\">\n",
              "  <thead>\n",
              "    <tr style=\"text-align: right;\">\n",
              "      <th></th>\n",
              "      <th>client_id</th>\n",
              "      <th>auto_revenue</th>\n",
              "    </tr>\n",
              "  </thead>\n",
              "  <tbody>\n",
              "    <tr>\n",
              "      <th>0</th>\n",
              "      <td>113</td>\n",
              "      <td>57483</td>\n",
              "    </tr>\n",
              "    <tr>\n",
              "      <th>1</th>\n",
              "      <td>114</td>\n",
              "      <td>83</td>\n",
              "    </tr>\n",
              "    <tr>\n",
              "      <th>2</th>\n",
              "      <td>115</td>\n",
              "      <td>912</td>\n",
              "    </tr>\n",
              "    <tr>\n",
              "      <th>3</th>\n",
              "      <td>116</td>\n",
              "      <td>4834</td>\n",
              "    </tr>\n",
              "    <tr>\n",
              "      <th>4</th>\n",
              "      <td>117</td>\n",
              "      <td>98</td>\n",
              "    </tr>\n",
              "  </tbody>\n",
              "</table>\n",
              "</div>"
            ]
          },
          "execution_count": 11,
          "metadata": {},
          "output_type": "execute_result"
        }
      ],
      "execution_count": null
    },
    {
      "metadata": {
        "ExecuteTime": {
          "end_time": "2024-11-11T10:18:53.218719Z",
          "start_time": "2024-11-11T10:18:53.213937Z"
        },
        "id": "c3d51a76384136a3",
        "outputId": "eec7b9df-5dc6-415d-9f14-1d3ac089da39"
      },
      "cell_type": "code",
      "source": [
        "air = pd.DataFrame(\n",
        "    {\n",
        "        'client_id': [115, 116, 117, 118],\n",
        "        'air_revenue': [81, 4, 13, 173]\n",
        "    }\n",
        ")\n",
        "air"
      ],
      "id": "c3d51a76384136a3",
      "outputs": [
        {
          "data": {
            "text/plain": [
              "   client_id  air_revenue\n",
              "0        115           81\n",
              "1        116            4\n",
              "2        117           13\n",
              "3        118          173"
            ],
            "text/html": [
              "<div>\n",
              "<style scoped>\n",
              "    .dataframe tbody tr th:only-of-type {\n",
              "        vertical-align: middle;\n",
              "    }\n",
              "\n",
              "    .dataframe tbody tr th {\n",
              "        vertical-align: top;\n",
              "    }\n",
              "\n",
              "    .dataframe thead th {\n",
              "        text-align: right;\n",
              "    }\n",
              "</style>\n",
              "<table border=\"1\" class=\"dataframe\">\n",
              "  <thead>\n",
              "    <tr style=\"text-align: right;\">\n",
              "      <th></th>\n",
              "      <th>client_id</th>\n",
              "      <th>air_revenue</th>\n",
              "    </tr>\n",
              "  </thead>\n",
              "  <tbody>\n",
              "    <tr>\n",
              "      <th>0</th>\n",
              "      <td>115</td>\n",
              "      <td>81</td>\n",
              "    </tr>\n",
              "    <tr>\n",
              "      <th>1</th>\n",
              "      <td>116</td>\n",
              "      <td>4</td>\n",
              "    </tr>\n",
              "    <tr>\n",
              "      <th>2</th>\n",
              "      <td>117</td>\n",
              "      <td>13</td>\n",
              "    </tr>\n",
              "    <tr>\n",
              "      <th>3</th>\n",
              "      <td>118</td>\n",
              "      <td>173</td>\n",
              "    </tr>\n",
              "  </tbody>\n",
              "</table>\n",
              "</div>"
            ]
          },
          "execution_count": 12,
          "metadata": {},
          "output_type": "execute_result"
        }
      ],
      "execution_count": null
    },
    {
      "metadata": {
        "ExecuteTime": {
          "end_time": "2024-11-11T10:18:54.933980Z",
          "start_time": "2024-11-11T10:18:54.928064Z"
        },
        "id": "6b71b1c9e48a99b1",
        "outputId": "44c549c0-61e2-474d-8b35-348d709d8fe1"
      },
      "cell_type": "code",
      "source": [
        "client_base = pd.DataFrame(\n",
        "    {\n",
        "        'client_id': [111, 112, 113, 114, 115, 116, 117, 118],\n",
        "        'address': ['Комсомольская 4', 'Энтузиастов 8а', 'Левобережная 1а', 'Мира 14', 'ЗЖБИиДК 1',\n",
        "                    'Строителей 18', 'Панфиловская 33', 'Мастеркова 4']\n",
        "    }\n",
        ")\n",
        "client_base"
      ],
      "id": "6b71b1c9e48a99b1",
      "outputs": [
        {
          "data": {
            "text/plain": [
              "   client_id          address\n",
              "0        111  Комсомольская 4\n",
              "1        112   Энтузиастов 8а\n",
              "2        113  Левобережная 1а\n",
              "3        114          Мира 14\n",
              "4        115        ЗЖБИиДК 1\n",
              "5        116    Строителей 18\n",
              "6        117  Панфиловская 33\n",
              "7        118     Мастеркова 4"
            ],
            "text/html": [
              "<div>\n",
              "<style scoped>\n",
              "    .dataframe tbody tr th:only-of-type {\n",
              "        vertical-align: middle;\n",
              "    }\n",
              "\n",
              "    .dataframe tbody tr th {\n",
              "        vertical-align: top;\n",
              "    }\n",
              "\n",
              "    .dataframe thead th {\n",
              "        text-align: right;\n",
              "    }\n",
              "</style>\n",
              "<table border=\"1\" class=\"dataframe\">\n",
              "  <thead>\n",
              "    <tr style=\"text-align: right;\">\n",
              "      <th></th>\n",
              "      <th>client_id</th>\n",
              "      <th>address</th>\n",
              "    </tr>\n",
              "  </thead>\n",
              "  <tbody>\n",
              "    <tr>\n",
              "      <th>0</th>\n",
              "      <td>111</td>\n",
              "      <td>Комсомольская 4</td>\n",
              "    </tr>\n",
              "    <tr>\n",
              "      <th>1</th>\n",
              "      <td>112</td>\n",
              "      <td>Энтузиастов 8а</td>\n",
              "    </tr>\n",
              "    <tr>\n",
              "      <th>2</th>\n",
              "      <td>113</td>\n",
              "      <td>Левобережная 1а</td>\n",
              "    </tr>\n",
              "    <tr>\n",
              "      <th>3</th>\n",
              "      <td>114</td>\n",
              "      <td>Мира 14</td>\n",
              "    </tr>\n",
              "    <tr>\n",
              "      <th>4</th>\n",
              "      <td>115</td>\n",
              "      <td>ЗЖБИиДК 1</td>\n",
              "    </tr>\n",
              "    <tr>\n",
              "      <th>5</th>\n",
              "      <td>116</td>\n",
              "      <td>Строителей 18</td>\n",
              "    </tr>\n",
              "    <tr>\n",
              "      <th>6</th>\n",
              "      <td>117</td>\n",
              "      <td>Панфиловская 33</td>\n",
              "    </tr>\n",
              "    <tr>\n",
              "      <th>7</th>\n",
              "      <td>118</td>\n",
              "      <td>Мастеркова 4</td>\n",
              "    </tr>\n",
              "  </tbody>\n",
              "</table>\n",
              "</div>"
            ]
          },
          "execution_count": 13,
          "metadata": {},
          "output_type": "execute_result"
        }
      ],
      "execution_count": null
    },
    {
      "metadata": {
        "ExecuteTime": {
          "end_time": "2024-11-11T10:19:14.629235Z",
          "start_time": "2024-11-11T10:19:14.618498Z"
        },
        "id": "19ab9db231b9e460",
        "outputId": "656fbd8c-d7ef-4e04-8f9d-addb8a97bb62"
      },
      "cell_type": "code",
      "source": [
        "table1 = rzd.merge(auto, how='outer').merge(air, how='outer')\n",
        "table2 = table1.merge(client_base, how='outer')\n",
        "\n",
        "print(table1,'\\n')\n",
        "print(table2)"
      ],
      "id": "19ab9db231b9e460",
      "outputs": [
        {
          "name": "stdout",
          "output_type": "stream",
          "text": [
            "   client_id  rzd_revenue  auto_revenue  air_revenue\n",
            "0        111       1093.0           NaN          NaN\n",
            "1        112       2810.0           NaN          NaN\n",
            "2        113      10283.0       57483.0          NaN\n",
            "3        114       5774.0          83.0          NaN\n",
            "4        115        981.0         912.0         81.0\n",
            "5        116          NaN        4834.0          4.0\n",
            "6        117          NaN          98.0         13.0\n",
            "7        118          NaN           NaN        173.0 \n",
            "\n",
            "   client_id  rzd_revenue  auto_revenue  air_revenue          address\n",
            "0        111       1093.0           NaN          NaN  Комсомольская 4\n",
            "1        112       2810.0           NaN          NaN   Энтузиастов 8а\n",
            "2        113      10283.0       57483.0          NaN  Левобережная 1а\n",
            "3        114       5774.0          83.0          NaN          Мира 14\n",
            "4        115        981.0         912.0         81.0        ЗЖБИиДК 1\n",
            "5        116          NaN        4834.0          4.0    Строителей 18\n",
            "6        117          NaN          98.0         13.0  Панфиловская 33\n",
            "7        118          NaN           NaN        173.0     Мастеркова 4\n"
          ]
        }
      ],
      "execution_count": null
    }
  ],
  "metadata": {
    "kernelspec": {
      "display_name": "Python 3",
      "language": "python",
      "name": "python3"
    },
    "language_info": {
      "codemirror_mode": {
        "name": "ipython",
        "version": 2
      },
      "file_extension": ".py",
      "mimetype": "text/x-python",
      "name": "python",
      "nbconvert_exporter": "python",
      "pygments_lexer": "ipython2",
      "version": "2.7.6"
    },
    "colab": {
      "provenance": []
    }
  },
  "nbformat": 4,
  "nbformat_minor": 5
}