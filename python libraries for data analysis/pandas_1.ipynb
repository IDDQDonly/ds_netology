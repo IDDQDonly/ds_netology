{
  "nbformat": 4,
  "nbformat_minor": 0,
  "metadata": {
    "colab": {
      "provenance": []
    },
    "kernelspec": {
      "name": "python3",
      "display_name": "Python 3"
    },
    "language_info": {
      "name": "python"
    }
  },
  "cells": [
    {
      "cell_type": "markdown",
      "source": [
        "##TASK 1\n",
        "\n",
        "Определите, какому фильму было выставлено больше всего оценок 5.0."
      ],
      "metadata": {
        "id": "I-8Q1SPYKBjQ"
      }
    },
    {
      "cell_type": "code",
      "source": [
        "import pandas as pd\n",
        "\n",
        "# task 1 Определите, какому фильму было выставлено больше всего оценок 5.0.\n",
        "\n",
        "\n",
        "def read_data_movies():\n",
        "    data_ratings = pd.read_csv(\"Файлы к заданию 1/movies.csv\")\n",
        "    return data_ratings\n",
        "\n",
        "def read_data_ratings():\n",
        "    data_movies = pd.read_csv(\"Файлы к заданию 1/ratings.csv\")\n",
        "    return data_movies\n",
        "\n",
        "def merge_data():\n",
        "    data_ratings = read_data_ratings()\n",
        "    data_movies = read_data_movies()\n",
        "    all_data = pd.merge(data_ratings, data_movies, on=\"movieId\")\n",
        "    return all_data\n",
        "\n",
        "def find_top_film():\n",
        "    all_data = merge_data()\n",
        "    grouped = all_data[all_data[\"rating\"] == 5.0]\n",
        "    top_film = grouped[\"title\"].value_counts().index[0]\n",
        "    return top_film\n",
        "\n",
        "print(find_top_film())"
      ],
      "metadata": {
        "id": "jch6UGFVKNrd"
      },
      "execution_count": null,
      "outputs": []
    },
    {
      "cell_type": "markdown",
      "source": [
        "Answer: Shawshank Redemption, The (1994)"
      ],
      "metadata": {
        "id": "GSo9ehMiKW7c"
      }
    },
    {
      "cell_type": "markdown",
      "source": [
        "## TASK 2\n",
        "\n",
        "По данным файла power.csv посчитайте суммарное потребление стран Прибалтики (Латвия, Литва и Эстония) категорий 4, 12 и 21 за период с 2005 по 2010 год. Не учитывайте в расчётах отрицательные значения quantity."
      ],
      "metadata": {
        "id": "WfkUuCmXKY-7"
      }
    },
    {
      "cell_type": "code",
      "source": [
        "def read_power():\n",
        "    data_power = pd.read_csv('Файлы к заданию 2/power.csv')\n",
        "    return data_power\n",
        "\n",
        "def read_transactions():\n",
        "    data_transactions = pd.read_csv('Файлы к заданию 2/transactions.csv')\n",
        "    return data_transactions\n",
        "\n",
        "def groups_Baltics():\n",
        "    data_power = read_power()\n",
        "    grouped = data_power[data_power['country'].isin(['Latvia', 'Lithuania', 'Estonia'])]\n",
        "    return grouped\n",
        "\n",
        "def group_year(countrys,start_year=2005,end_year=2010):\n",
        "    return countrys[(countrys['year'] >= start_year) & (countrys['year'] <= end_year)]\n",
        "\n",
        "def sum_quantity(county_grouped_by_year):\n",
        "    return (county_grouped_by_year['quantity'] > 0).sum()\n",
        "\n",
        "def main():\n",
        "    Baltics = groups_Baltics()\n",
        "    Baltics_grouped_by_year = group_year(Baltics)\n",
        "    print(sum_quantity(Baltics_grouped_by_year))\n",
        "\n",
        "main()"
      ],
      "metadata": {
        "id": "krE_1HZIKeTD"
      },
      "execution_count": null,
      "outputs": []
    },
    {
      "cell_type": "markdown",
      "source": [
        "answer = 6976"
      ],
      "metadata": {
        "id": "gna1MRdxPD3x"
      }
    },
    {
      "cell_type": "markdown",
      "source": [
        "## TASK 3\n",
        "\n",
        "Выберите страницу любого сайта с табличными данными. Импортируйте таблицы в pandas DataFrame. Вы можете взять любые страницы.\n",
        "Примеры страниц:\n",
        "https://fortrader.org/quotes;\n",
        "pythonworld.ru...strok.html"
      ],
      "metadata": {
        "id": "AQblvCHLPHYJ"
      }
    },
    {
      "cell_type": "code",
      "source": [
        "import pandas as pd\n",
        "import requests\n",
        "from bs4 import BeautifulSoup\n",
        "from io import StringIO\n",
        "\n",
        "# URL страницы с табличными данными\n",
        "url = 'https://fortrader.org/quotes'\n",
        "headers = {\n",
        "    \"User-Agent\": \"Mozilla/5.0 (Windows NT 10.0; Win64; x64) AppleWebKit/537.36 (KHTML, like Gecko) Chrome/87.0.4280.88 Safari/537.36\"\n",
        "}\n",
        "response = requests.get(url, headers=headers)\n",
        "\n",
        "if response.status_code == 200:\n",
        "    # Используем BeautifulSoup для парсинга HTML\n",
        "    parsing_html = BeautifulSoup(response.content, \"html.parser\")\n",
        "\n",
        "    # Извлекаем таблицы из HTML с помощью pandas\n",
        "    html_str = str(parsing_html)\n",
        "    tables = pd.read_html(StringIO(html_str))\n",
        "\n",
        "    # Отображаем первую таблицу\n",
        "    print(f\"Количество таблиц на странице: {len(tables)}\")\n",
        "    print(tables[0])\n",
        "else:\n",
        "    print(\"Не удалось получить доступ к странице. Код ошибки:\", response.status_code)\n"
      ],
      "metadata": {
        "id": "u2gvZI7OPLtI"
      },
      "execution_count": null,
      "outputs": []
    },
    {
      "cell_type": "markdown",
      "source": [
        "output:\n",
        "\n",
        "Количество таблиц на странице: 7\n",
        "                           Название    Цена  Изменение  Изменение(%)  Обновлено\n",
        "0  EURRUB Курс евро к рублю сегодня  104.71       0.14          0.14        NaN\n",
        "1       USDRUB Курс рубля к доллару   97.08       0.20          0.21        NaN"
      ],
      "metadata": {
        "id": "ccyn7Y0OTxdV"
      }
    }
  ]
}